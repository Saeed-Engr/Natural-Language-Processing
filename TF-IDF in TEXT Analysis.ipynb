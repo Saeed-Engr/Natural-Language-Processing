{
 "cells": [
  {
   "cell_type": "code",
   "execution_count": 1,
   "id": "143686fa",
   "metadata": {},
   "outputs": [],
   "source": [
    "from sklearn.feature_extraction.text import TfidfVectorizer\n",
    "\n",
    "docA = \"The car is driven on the road\"\n",
    "docB = \"The truck is driven on the highway\" "
   ]
  },
  {
   "cell_type": "code",
   "execution_count": 2,
   "id": "35e090c2",
   "metadata": {},
   "outputs": [],
   "source": [
    "tfidf = TfidfVectorizer()"
   ]
  },
  {
   "cell_type": "code",
   "execution_count": 5,
   "id": "9b38fe3a",
   "metadata": {},
   "outputs": [
    {
     "data": {
      "text/plain": [
       "<2x8 sparse matrix of type '<class 'numpy.float64'>'\n",
       "\twith 12 stored elements in Compressed Sparse Row format>"
      ]
     },
     "execution_count": 5,
     "metadata": {},
     "output_type": "execute_result"
    }
   ],
   "source": [
    "response = tfidf.fit_transform([docA, docB])\n",
    "response"
   ]
  },
  {
   "cell_type": "code",
   "execution_count": 7,
   "id": "1fc8d38c",
   "metadata": {},
   "outputs": [
    {
     "name": "stdout",
     "output_type": "stream",
     "text": [
      "road  -  0.42471718586982765\n",
      "on  -  0.30218977576862155\n",
      "driven  -  0.30218977576862155\n",
      "is  -  0.30218977576862155\n",
      "car  -  0.42471718586982765\n",
      "the  -  0.6043795515372431\n",
      "highway  -  0.0\n",
      "truck  -  0.0\n",
      "on  -  0.30218977576862155\n",
      "driven  -  0.30218977576862155\n",
      "is  -  0.30218977576862155\n",
      "the  -  0.6043795515372431\n"
     ]
    }
   ],
   "source": [
    "feature_names = tfidf.get_feature_names_out()\n",
    "for col in response.nonzero()[1]:\n",
    "    print (feature_names[col], ' - ', response[0, col])"
   ]
  },
  {
   "cell_type": "code",
   "execution_count": 8,
   "id": "c5c74553",
   "metadata": {},
   "outputs": [
    {
     "name": "stdout",
     "output_type": "stream",
     "text": [
      "road  -  0.42471718586982765\n",
      "on  -  0.30218977576862155\n",
      "driven  -  0.30218977576862155\n",
      "is  -  0.30218977576862155\n",
      "car  -  0.42471718586982765\n",
      "the  -  0.6043795515372431\n",
      "highway  -  0.0\n",
      "truck  -  0.0\n",
      "on  -  0.30218977576862155\n",
      "driven  -  0.30218977576862155\n",
      "is  -  0.30218977576862155\n",
      "the  -  0.6043795515372431\n"
     ]
    }
   ],
   "source": [
    "feature_names = tfidf.get_feature_names_out()\n",
    "for col in response.nonzero()[1]:\n",
    "    print (feature_names[col], ' - ', response[0, col])"
   ]
  },
  {
   "cell_type": "code",
   "execution_count": null,
   "id": "8f631198",
   "metadata": {},
   "outputs": [],
   "source": []
  },
  {
   "cell_type": "code",
   "execution_count": null,
   "id": "229d89a0",
   "metadata": {},
   "outputs": [],
   "source": []
  },
  {
   "cell_type": "code",
   "execution_count": 9,
   "id": "c5787cc2",
   "metadata": {},
   "outputs": [],
   "source": [
    "#Step 1 - Import necessary libraries\n",
    "\n",
    "import pandas as pd\n",
    "from sklearn.feature_extraction.text import TfidfVectorizer"
   ]
  },
  {
   "cell_type": "code",
   "execution_count": 10,
   "id": "a38c1799",
   "metadata": {},
   "outputs": [],
   "source": [
    "#Step 2 - Take Sample Data\n",
    "\n",
    "data1 = \"I'm designing a document and don't want to get bogged down in what the text actually says\"\n",
    "data2 = \"I'm creating a template with various paragraph styles and need to see what they will look like.\"\n",
    "data3 = \"I'm trying to learn more about some feature of Microsoft Word and don't want to practice on a real document.\""
   ]
  },
  {
   "cell_type": "code",
   "execution_count": 11,
   "id": "542a5a09",
   "metadata": {},
   "outputs": [],
   "source": [
    "#Step 3 - Convert Sample Data into DataFrame using pandas\n",
    "\n",
    "df1 = pd.DataFrame({'First_Para': [data1], 'Second_Para': [data2], 'Third_Para': [data2]})"
   ]
  },
  {
   "cell_type": "code",
   "execution_count": 12,
   "id": "aae25fef",
   "metadata": {},
   "outputs": [],
   "source": [
    "#Step 4 - Initialize the Vectorizer\n",
    "\n",
    "tfidf_vectorizer = TfidfVectorizer()\n",
    "doc_vec = tfidf_vectorizer.fit_transform(df1.iloc[0])\n",
    "\n",
    "#Here we have initialized the vectorizer and fit & transformed the data"
   ]
  },
  {
   "cell_type": "code",
   "execution_count": 13,
   "id": "f6c23cc8",
   "metadata": {},
   "outputs": [],
   "source": [
    "#Step 5 - Convert the transformed Data into a DataFrame.\n",
    "\n",
    "df2 = pd.DataFrame(doc_vec.toarray().transpose(),\n",
    "                   index=tfidf_vectorizer.get_feature_names())"
   ]
  },
  {
   "cell_type": "code",
   "execution_count": 14,
   "id": "b2ef1446",
   "metadata": {},
   "outputs": [
    {
     "name": "stdout",
     "output_type": "stream",
     "text": [
      "           First_Para  Second_Para  Third_Para\n",
      "actually     0.276856     0.000000    0.000000\n",
      "and          0.163515     0.208981    0.208981\n",
      "bogged       0.276856     0.000000    0.000000\n",
      "creating     0.000000     0.269101    0.269101\n",
      "designing    0.276856     0.000000    0.000000\n",
      "document     0.276856     0.000000    0.000000\n",
      "don          0.276856     0.000000    0.000000\n",
      "down         0.276856     0.000000    0.000000\n",
      "get          0.276856     0.000000    0.000000\n",
      "in           0.276856     0.000000    0.000000\n",
      "like         0.000000     0.269101    0.269101\n",
      "look         0.000000     0.269101    0.269101\n",
      "need         0.000000     0.269101    0.269101\n",
      "paragraph    0.000000     0.269101    0.269101\n",
      "says         0.276856     0.000000    0.000000\n",
      "see          0.000000     0.269101    0.269101\n",
      "styles       0.000000     0.269101    0.269101\n",
      "template     0.000000     0.269101    0.269101\n",
      "text         0.276856     0.000000    0.000000\n",
      "the          0.276856     0.000000    0.000000\n",
      "they         0.000000     0.269101    0.269101\n",
      "to           0.163515     0.208981    0.208981\n",
      "various      0.000000     0.269101    0.269101\n",
      "want         0.276856     0.000000    0.000000\n",
      "what         0.163515     0.208981    0.208981\n",
      "will         0.000000     0.269101    0.269101\n",
      "with         0.000000     0.269101    0.269101\n"
     ]
    }
   ],
   "source": [
    "#Step 6 - Change the Column names and print the result\n",
    "\n",
    "df2.columns = df1.columns\n",
    "print(df2)"
   ]
  },
  {
   "cell_type": "code",
   "execution_count": null,
   "id": "7968e1f7",
   "metadata": {},
   "outputs": [],
   "source": []
  }
 ],
 "metadata": {
  "kernelspec": {
   "display_name": "Python 3 (ipykernel)",
   "language": "python",
   "name": "python3"
  },
  "language_info": {
   "codemirror_mode": {
    "name": "ipython",
    "version": 3
   },
   "file_extension": ".py",
   "mimetype": "text/x-python",
   "name": "python",
   "nbconvert_exporter": "python",
   "pygments_lexer": "ipython3",
   "version": "3.9.7"
  }
 },
 "nbformat": 4,
 "nbformat_minor": 5
}
