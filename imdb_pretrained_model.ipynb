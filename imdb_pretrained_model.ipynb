{
 "cells": [
  {
   "cell_type": "code",
   "execution_count": 1,
   "id": "75559b15",
   "metadata": {},
   "outputs": [],
   "source": [
    "import tensorflow as tf\n",
    "import os"
   ]
  },
  {
   "cell_type": "markdown",
   "id": "e84ffa8a",
   "metadata": {},
   "source": [
    "# Processing the labels of the raw IMDB data\n"
   ]
  },
  {
   "cell_type": "code",
   "execution_count": null,
   "id": "edc14d27",
   "metadata": {},
   "outputs": [],
   "source": [
    "#imdb_dir  = \"E:/QUARTER 3_COMPUTER_VISION/nlp chapeter #6/archive (2)/aclImdb\"\n",
    "#train_dir = \"E:/QUARTER 3_COMPUTER_VISION/nlp chapeter #6/archive (2)/aclImdb/train\"\n",
    "\n",
    "imdb_dir  = \"aclImdb\"\n",
    "train_dir = \"aclImdb/train\"\n",
    "labels    = []\n",
    "texts     = []\n",
    "\n",
    "for label_type in ['neg', 'pos']:\n",
    "    dir_name = os.path.join(train_dir, label_type)\n",
    "    for fname in os.listdir(dir_name):\n",
    "        if fname[-4:] == '.txt':  #   optional\n",
    "            \n",
    "            f = open(os.path.join(dir_name, fname ) , encoding='utf-8')\n",
    "            texts.append(f.read())\n",
    "            f.close()\n",
    "            if label_type == 'neg':\n",
    "                \n",
    "                labels.append(0)\n",
    "                \n",
    "            else:\n",
    "                labels.append(1)\n"
   ]
  },
  {
   "cell_type": "markdown",
   "id": "c7dde5da",
   "metadata": {},
   "source": [
    "# Tokenizing the text of the raw IMDB data\n"
   ]
  },
  {
   "cell_type": "code",
   "execution_count": 43,
   "id": "d32d61f6",
   "metadata": {},
   "outputs": [
    {
     "name": "stdout",
     "output_type": "stream",
     "text": [
      "Found 88582 unique tokens.\n",
      "Shape of data tensor: (25000, 100)\n",
      "Shape of label tensor: (25000,)\n"
     ]
    }
   ],
   "source": [
    "from tensorflow.keras.preprocessing.text import Tokenizer\n",
    "from tensorflow.keras.preprocessing.sequence import pad_sequences\n",
    "import numpy as np\n",
    "maxlen = 100\n",
    "training_samples = 200\n",
    "validation_samples = 10000\n",
    "max_words = 10000\n",
    "\n",
    "tokenizer = Tokenizer(num_words=max_words)\n",
    "tokenizer.fit_on_texts(texts)\n",
    "sequences = tokenizer.texts_to_sequences(texts)\n",
    "word_index = tokenizer.word_index\n",
    "print('Found %s unique tokens.' % len(word_index))\n",
    "data = pad_sequences(sequences, maxlen=maxlen)\n",
    "labels = np.asarray(labels)\n",
    "print('Shape of data tensor:', data.shape)\n",
    "print('Shape of label tensor:', labels.shape)\n",
    "\n",
    "indices = np.arange(data.shape[0])\n",
    "np.random.shuffle(indices)\n",
    "data = data[indices]\n",
    "labels = labels[indices]\n",
    "x_train = data[:training_samples]\n",
    "y_train = labels[:training_samples]\n",
    "x_val = data[training_samples: training_samples + validation_samples]\n",
    "y_val = labels[training_samples: training_samples + validation_samples]"
   ]
  },
  {
   "cell_type": "code",
   "execution_count": 44,
   "id": "51299a7e",
   "metadata": {},
   "outputs": [
    {
     "data": {
      "text/plain": [
       "array([[  10,  141,   27, ...,    9,   67,   76],\n",
       "       [  78,   21,  434, ..., 1041,  151, 1231],\n",
       "       [ 257,   32, 1585, ...,    7,  542, 1176],\n",
       "       ...,\n",
       "       [  23,   21,  711, ...,  404,  287,    9],\n",
       "       [  13,  458,    3, ...,   23,   52, 1127],\n",
       "       [ 120,   50,    4, ...,    9, 1910,   11]])"
      ]
     },
     "execution_count": 44,
     "metadata": {},
     "output_type": "execute_result"
    }
   ],
   "source": [
    "data"
   ]
  },
  {
   "cell_type": "code",
   "execution_count": 45,
   "id": "e60ca214",
   "metadata": {},
   "outputs": [
    {
     "data": {
      "text/plain": [
       "100"
      ]
     },
     "execution_count": 45,
     "metadata": {},
     "output_type": "execute_result"
    }
   ],
   "source": [
    "len(data[0])\n"
   ]
  },
  {
   "cell_type": "code",
   "execution_count": 46,
   "id": "ffa90feb",
   "metadata": {},
   "outputs": [
    {
     "data": {
      "text/plain": [
       "array([0, 0, 1, ..., 1, 1, 1])"
      ]
     },
     "execution_count": 46,
     "metadata": {},
     "output_type": "execute_result"
    }
   ],
   "source": [
    "labels\n"
   ]
  },
  {
   "cell_type": "code",
   "execution_count": 47,
   "id": "b20b61e6",
   "metadata": {},
   "outputs": [
    {
     "data": {
      "text/plain": [
       "200"
      ]
     },
     "execution_count": 47,
     "metadata": {},
     "output_type": "execute_result"
    }
   ],
   "source": [
    "training_samples\n"
   ]
  },
  {
   "cell_type": "code",
   "execution_count": null,
   "id": "d8865e6b",
   "metadata": {},
   "outputs": [],
   "source": [
    "glove_dir = '/Users/fchollet/Downloads/glove.6B'\n",
    "embeddings_index = {}\n",
    "f = open(os.path.join(glove_dir, 'glove.6B.100d.txt'))\n",
    "for line in f:\n",
    "values = line.split()\n",
    "word = values[0]\n",
    "coefs = np.asarray(values[1:], dtype='float32')\n",
    "embeddings_index[word] = coefs\n",
    "f.close()\n",
    "print('Found %s word vectors.' % len(embeddings_index))"
   ]
  },
  {
   "cell_type": "markdown",
   "id": "c56058cd",
   "metadata": {},
   "source": [
    "# Parsing the GloVe word-embeddings file\n"
   ]
  },
  {
   "cell_type": "code",
   "execution_count": 48,
   "id": "ba4658a8",
   "metadata": {},
   "outputs": [
    {
     "name": "stdout",
     "output_type": "stream",
     "text": [
      "Found 400000 word vectors.\n"
     ]
    }
   ],
   "source": [
    "\n",
    "glove_data = \"glove/glove.6B.100d.txt\"\n",
    "embeddings_index = {}\n",
    "\n",
    "f = open(glove_data, encoding=\"utf8\" )\n",
    "\n",
    "for line in f:   \n",
    "    values = line.split()\n",
    "    word = values[0]\n",
    "    coefs = np.asarray(values[1:], dtype='float32')\n",
    "    embeddings_index[word] = coefs\n",
    "f.close()\n",
    "print('Found %s word vectors.' % len(embeddings_index))"
   ]
  },
  {
   "cell_type": "code",
   "execution_count": 49,
   "id": "24722345",
   "metadata": {},
   "outputs": [],
   "source": [
    "embedding_matrix = np.zeros((max_words, 100))\n"
   ]
  },
  {
   "cell_type": "code",
   "execution_count": 50,
   "id": "65b2818d",
   "metadata": {},
   "outputs": [
    {
     "data": {
      "text/plain": [
       "(10000, 100)"
      ]
     },
     "execution_count": 50,
     "metadata": {},
     "output_type": "execute_result"
    }
   ],
   "source": [
    "embedding_matrix.shape\n"
   ]
  },
  {
   "cell_type": "code",
   "execution_count": 51,
   "id": "a4fed2d2",
   "metadata": {},
   "outputs": [
    {
     "data": {
      "text/plain": [
       "array([[0., 0., 0., ..., 0., 0., 0.],\n",
       "       [0., 0., 0., ..., 0., 0., 0.],\n",
       "       [0., 0., 0., ..., 0., 0., 0.],\n",
       "       ...,\n",
       "       [0., 0., 0., ..., 0., 0., 0.],\n",
       "       [0., 0., 0., ..., 0., 0., 0.],\n",
       "       [0., 0., 0., ..., 0., 0., 0.]])"
      ]
     },
     "execution_count": 51,
     "metadata": {},
     "output_type": "execute_result"
    }
   ],
   "source": [
    "embedding_matrix\n"
   ]
  },
  {
   "cell_type": "markdown",
   "id": "60204df2",
   "metadata": {},
   "source": [
    "# Preparing the GloVe word-embeddings matrix\n"
   ]
  },
  {
   "cell_type": "code",
   "execution_count": 52,
   "id": "283dcd38",
   "metadata": {},
   "outputs": [],
   "source": [
    "embedding_dim = 100\n",
    "embedding_matrix = np.zeros((max_words, embedding_dim))\n",
    "for word, i in word_index.items():\n",
    "    if i < max_words:        \n",
    "        embedding_vector = embeddings_index.get(word)\n",
    "        if embedding_vector is not None:\n",
    "            embedding_matrix[i] = embedding_vector"
   ]
  },
  {
   "cell_type": "markdown",
   "id": "35f74807",
   "metadata": {},
   "source": [
    "# Model definition\n"
   ]
  },
  {
   "cell_type": "code",
   "execution_count": 53,
   "id": "a19cb673",
   "metadata": {},
   "outputs": [
    {
     "name": "stdout",
     "output_type": "stream",
     "text": [
      "Model: \"sequential_1\"\n",
      "_________________________________________________________________\n",
      "Layer (type)                 Output Shape              Param #   \n",
      "=================================================================\n",
      "embedding_1 (Embedding)      (None, 100, 100)          1000000   \n",
      "_________________________________________________________________\n",
      "flatten_1 (Flatten)          (None, 10000)             0         \n",
      "_________________________________________________________________\n",
      "dense_2 (Dense)              (None, 32)                320032    \n",
      "_________________________________________________________________\n",
      "dense_3 (Dense)              (None, 1)                 33        \n",
      "=================================================================\n",
      "Total params: 1,320,065\n",
      "Trainable params: 1,320,065\n",
      "Non-trainable params: 0\n",
      "_________________________________________________________________\n"
     ]
    }
   ],
   "source": [
    "from tensorflow.keras.models import Sequential\n",
    "from tensorflow.keras.layers import Embedding, Flatten, Dense\n",
    "model = Sequential()\n",
    "model.add(Embedding(max_words, embedding_dim, input_length=maxlen))\n",
    "model.add(Flatten())\n",
    "model.add(Dense(32, activation='relu'))\n",
    "model.add(Dense(1, activation='sigmoid'))\n",
    "model.summary()"
   ]
  },
  {
   "cell_type": "markdown",
   "id": "0c951cff",
   "metadata": {},
   "source": [
    "# Loading pretrained word embeddings into the Embedding layer\n"
   ]
  },
  {
   "cell_type": "code",
   "execution_count": 54,
   "id": "f83ec8db",
   "metadata": {},
   "outputs": [],
   "source": [
    "model.layers[0].set_weights([embedding_matrix])\n",
    "model.layers[0].trainable = False"
   ]
  },
  {
   "cell_type": "markdown",
   "id": "d469a58a",
   "metadata": {},
   "source": [
    "# Training and evaluation\n"
   ]
  },
  {
   "cell_type": "code",
   "execution_count": 55,
   "id": "6b530fc3",
   "metadata": {},
   "outputs": [
    {
     "name": "stdout",
     "output_type": "stream",
     "text": [
      "Epoch 1/10\n",
      "7/7 [==============================] - 1s 187ms/step - loss: 2.1396 - acc: 0.5100 - val_loss: 0.6916 - val_acc: 0.5417\n",
      "Epoch 2/10\n",
      "7/7 [==============================] - 1s 121ms/step - loss: 0.5783 - acc: 0.7000 - val_loss: 1.3289 - val_acc: 0.4961\n",
      "Epoch 3/10\n",
      "7/7 [==============================] - 1s 117ms/step - loss: 0.5000 - acc: 0.8150 - val_loss: 0.7351 - val_acc: 0.5263\n",
      "Epoch 4/10\n",
      "7/7 [==============================] - 1s 121ms/step - loss: 0.3848 - acc: 0.8500 - val_loss: 0.8550 - val_acc: 0.5159\n",
      "Epoch 5/10\n",
      "7/7 [==============================] - 1s 120ms/step - loss: 0.2181 - acc: 0.9450 - val_loss: 0.9058 - val_acc: 0.5138\n",
      "Epoch 6/10\n",
      "7/7 [==============================] - 1s 117ms/step - loss: 0.3070 - acc: 0.8650 - val_loss: 0.8049 - val_acc: 0.5574\n",
      "Epoch 7/10\n",
      "7/7 [==============================] - 1s 123ms/step - loss: 0.0853 - acc: 0.9950 - val_loss: 0.7515 - val_acc: 0.5811\n",
      "Epoch 8/10\n",
      "7/7 [==============================] - 1s 120ms/step - loss: 0.0454 - acc: 1.0000 - val_loss: 1.0579 - val_acc: 0.5304\n",
      "Epoch 9/10\n",
      "7/7 [==============================] - 1s 119ms/step - loss: 0.0828 - acc: 0.9950 - val_loss: 1.1414 - val_acc: 0.5280\n",
      "Epoch 10/10\n",
      "7/7 [==============================] - 1s 119ms/step - loss: 0.0308 - acc: 1.0000 - val_loss: 0.7767 - val_acc: 0.5929\n"
     ]
    }
   ],
   "source": [
    "model.compile(optimizer='rmsprop', loss='binary_crossentropy', metrics=['acc'])\n",
    "\n",
    "history = model.fit(x_train, y_train, epochs=10, validation_data=(x_val, y_val))\n",
    "\n",
    "model.save_weights('pre_trained_glove_model.h5')"
   ]
  },
  {
   "cell_type": "markdown",
   "id": "394aa7ba",
   "metadata": {},
   "source": [
    "# Plotting the results\n"
   ]
  },
  {
   "cell_type": "code",
   "execution_count": 56,
   "id": "f9941c1f",
   "metadata": {},
   "outputs": [
    {
     "data": {
      "image/png": "[encoded data removed]",
      "text/plain": [
       "<Figure size 432x288 with 1 Axes>"
      ]
     },
     "metadata": {
      "needs_background": "light"
     },
     "output_type": "display_data"
    },
    {
     "data": {
      "image/png": "[encoded data removed]",
      "text/plain": [
       "<Figure size 432x288 with 1 Axes>"
      ]
     },
     "metadata": {
      "needs_background": "light"
     },
     "output_type": "display_data"
    }
   ],
   "source": [
    "import matplotlib.pyplot as plt\n",
    "acc = history.history['acc']\n",
    "val_acc = history.history['val_acc']\n",
    "loss = history.history['loss']\n",
    "val_loss = history.history['val_loss']\n",
    "epochs = range(1, len(acc) + 1)\n",
    "plt.plot(epochs, acc, 'bo', label='Training acc')\n",
    "plt.plot(epochs, val_acc, 'b', label='Validation acc')\n",
    "plt.title('Training and validation accuracy')\n",
    "plt.legend()\n",
    "plt.figure()\n",
    "plt.plot(epochs, loss, 'bo', label='Training loss')\n",
    "plt.plot(epochs, val_loss, 'b', label='Validation loss')\n",
    "plt.title('Training and validation loss')\n",
    "plt.legend()\n",
    "plt.show()"
   ]
  },
  {
   "cell_type": "code",
   "execution_count": null,
   "id": "89b86631",
   "metadata": {},
   "outputs": [],
   "source": []
  },
  {
   "cell_type": "code",
   "execution_count": null,
   "id": "418178b4",
   "metadata": {},
   "outputs": [],
   "source": []
  }
 ],
 "metadata": {
  "kernelspec": {
   "display_name": "Python 3",
   "language": "python",
   "name": "python3"
  },
  "language_info": {
   "codemirror_mode": {
    "name": "ipython",
    "version": 3
   },
   "file_extension": ".py",
   "mimetype": "text/x-python",
   "name": "python",
   "nbconvert_exporter": "python",
   "pygments_lexer": "ipython3",
   "version": "3.8.8"
  }
 },
 "nbformat": 4,
 "nbformat_minor": 5
}
