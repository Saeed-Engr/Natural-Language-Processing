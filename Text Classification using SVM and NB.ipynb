{
 "cells": [
  {
   "cell_type": "code",
   "execution_count": 1,
   "id": "2a01c03d",
   "metadata": {},
   "outputs": [],
   "source": [
    "import pandas as pd\n",
    "import numpy as np\n",
    "\n",
    "import pandas as pd\n",
    "import numpy as np\n",
    "from nltk.tokenize import word_tokenize\n",
    "from nltk import pos_tag\n",
    "from nltk.corpus import stopwords\n",
    "from nltk.stem import WordNetLemmatizer\n",
    "from sklearn.preprocessing import LabelEncoder\n",
    "from collections import defaultdict\n",
    "from nltk.corpus import wordnet as wn\n",
    "from sklearn.feature_extraction.text import TfidfVectorizer\n",
    "from sklearn import model_selection, naive_bayes, svm\n",
    "from sklearn.metrics import accuracy_score\n",
    "from sklearn.metrics import classification_report\n",
    "from sklearn.metrics import confusion_matrix\n",
    "import matplotlib.pyplot as plt\n",
    "import seaborn as sns"
   ]
  },
  {
   "cell_type": "code",
   "execution_count": null,
   "id": "fc0458b0",
   "metadata": {},
   "outputs": [],
   "source": []
  },
  {
   "cell_type": "code",
   "execution_count": 2,
   "id": "2f0733a5",
   "metadata": {},
   "outputs": [
    {
     "data": {
      "text/html": [
       "<div>\n",
       "<style scoped>\n",
       "    .dataframe tbody tr th:only-of-type {\n",
       "        vertical-align: middle;\n",
       "    }\n",
       "\n",
       "    .dataframe tbody tr th {\n",
       "        vertical-align: top;\n",
       "    }\n",
       "\n",
       "    .dataframe thead th {\n",
       "        text-align: right;\n",
       "    }\n",
       "</style>\n",
       "<table border=\"1\" class=\"dataframe\">\n",
       "  <thead>\n",
       "    <tr style=\"text-align: right;\">\n",
       "      <th></th>\n",
       "      <th>reviews</th>\n",
       "      <th>Label</th>\n",
       "    </tr>\n",
       "  </thead>\n",
       "  <tbody>\n",
       "    <tr>\n",
       "      <th>0</th>\n",
       "      <td>One of the other reviewers has mentioned that ...</td>\n",
       "      <td>positive</td>\n",
       "    </tr>\n",
       "    <tr>\n",
       "      <th>1</th>\n",
       "      <td>A wonderful little production. &lt;br /&gt;&lt;br /&gt;The...</td>\n",
       "      <td>positive</td>\n",
       "    </tr>\n",
       "    <tr>\n",
       "      <th>2</th>\n",
       "      <td>I thought this was a wonderful way to spend ti...</td>\n",
       "      <td>positive</td>\n",
       "    </tr>\n",
       "    <tr>\n",
       "      <th>3</th>\n",
       "      <td>Basically there's a family where a little boy ...</td>\n",
       "      <td>negative</td>\n",
       "    </tr>\n",
       "    <tr>\n",
       "      <th>4</th>\n",
       "      <td>Petter Mattei's \"Love in the Time of Money\" is...</td>\n",
       "      <td>positive</td>\n",
       "    </tr>\n",
       "  </tbody>\n",
       "</table>\n",
       "</div>"
      ],
      "text/plain": [
       "                                             reviews     Label\n",
       "0  One of the other reviewers has mentioned that ...  positive\n",
       "1  A wonderful little production. <br /><br />The...  positive\n",
       "2  I thought this was a wonderful way to spend ti...  positive\n",
       "3  Basically there's a family where a little boy ...  negative\n",
       "4  Petter Mattei's \"Love in the Time of Money\" is...  positive"
      ]
     },
     "execution_count": 2,
     "metadata": {},
     "output_type": "execute_result"
    }
   ],
   "source": [
    "Corpus = pd.read_csv(\"E:/MS_AI_IUB_DATASETS_2022/NLP/Training.csv\")\n",
    "Corpus.head()"
   ]
  },
  {
   "cell_type": "code",
   "execution_count": 3,
   "id": "0cfa8b70",
   "metadata": {},
   "outputs": [
    {
     "data": {
      "text/plain": [
       "80"
      ]
     },
     "execution_count": 3,
     "metadata": {},
     "output_type": "execute_result"
    }
   ],
   "source": [
    "len(Corpus)"
   ]
  },
  {
   "cell_type": "code",
   "execution_count": 4,
   "id": "ce02aa22",
   "metadata": {},
   "outputs": [
    {
     "data": {
      "text/plain": [
       "(80, 2)"
      ]
     },
     "execution_count": 4,
     "metadata": {},
     "output_type": "execute_result"
    }
   ],
   "source": [
    "Corpus.shape"
   ]
  },
  {
   "cell_type": "code",
   "execution_count": 5,
   "id": "1f98e59c",
   "metadata": {},
   "outputs": [
    {
     "data": {
      "text/plain": [
       "reviews    False\n",
       "Label      False\n",
       "dtype: bool"
      ]
     },
     "execution_count": 5,
     "metadata": {},
     "output_type": "execute_result"
    }
   ],
   "source": [
    "Corpus.isnull().any()"
   ]
  },
  {
   "cell_type": "code",
   "execution_count": 12,
   "id": "7835ef1a",
   "metadata": {},
   "outputs": [
    {
     "data": {
      "text/html": [
       "<div>\n",
       "<style scoped>\n",
       "    .dataframe tbody tr th:only-of-type {\n",
       "        vertical-align: middle;\n",
       "    }\n",
       "\n",
       "    .dataframe tbody tr th {\n",
       "        vertical-align: top;\n",
       "    }\n",
       "\n",
       "    .dataframe thead th {\n",
       "        text-align: right;\n",
       "    }\n",
       "</style>\n",
       "<table border=\"1\" class=\"dataframe\">\n",
       "  <thead>\n",
       "    <tr style=\"text-align: right;\">\n",
       "      <th></th>\n",
       "      <th>reviews</th>\n",
       "      <th>Label</th>\n",
       "    </tr>\n",
       "  </thead>\n",
       "  <tbody>\n",
       "    <tr>\n",
       "      <th>15</th>\n",
       "      <td>Kind of drawn in by the erotic scenes, only to...</td>\n",
       "      <td>negative</td>\n",
       "    </tr>\n",
       "    <tr>\n",
       "      <th>0</th>\n",
       "      <td>One of the other reviewers has mentioned that ...</td>\n",
       "      <td>positive</td>\n",
       "    </tr>\n",
       "    <tr>\n",
       "      <th>18</th>\n",
       "      <td>I remember this film,it was the first film i h...</td>\n",
       "      <td>positive</td>\n",
       "    </tr>\n",
       "    <tr>\n",
       "      <th>70</th>\n",
       "      <td>Caddyshack Two is a good movie by itself but c...</td>\n",
       "      <td>negative</td>\n",
       "    </tr>\n",
       "    <tr>\n",
       "      <th>22</th>\n",
       "      <td>What an absolutely stunning movie, if you have...</td>\n",
       "      <td>positive</td>\n",
       "    </tr>\n",
       "  </tbody>\n",
       "</table>\n",
       "</div>"
      ],
      "text/plain": [
       "                                              reviews     Label\n",
       "15  Kind of drawn in by the erotic scenes, only to...  negative\n",
       "0   One of the other reviewers has mentioned that ...  positive\n",
       "18  I remember this film,it was the first film i h...  positive\n",
       "70  Caddyshack Two is a good movie by itself but c...  negative\n",
       "22  What an absolutely stunning movie, if you have...  positive"
      ]
     },
     "execution_count": 12,
     "metadata": {},
     "output_type": "execute_result"
    }
   ],
   "source": [
    "Corpus.sample(5)"
   ]
  },
  {
   "cell_type": "code",
   "execution_count": 14,
   "id": "991ad7fd",
   "metadata": {},
   "outputs": [
    {
     "data": {
      "text/plain": [
       "Index(['reviews', 'Label'], dtype='object')"
      ]
     },
     "execution_count": 14,
     "metadata": {},
     "output_type": "execute_result"
    }
   ],
   "source": [
    "Corpus.columns"
   ]
  },
  {
   "cell_type": "code",
   "execution_count": 17,
   "id": "30e41fbb",
   "metadata": {},
   "outputs": [
    {
     "name": "stderr",
     "output_type": "stream",
     "text": [
      "C:\\Users\\Rana Saeed\\Anaconda3\\lib\\site-packages\\seaborn\\_decorators.py:36: FutureWarning: Pass the following variable as a keyword arg: x. From version 0.12, the only valid positional argument will be `data`, and passing other arguments without an explicit keyword will result in an error or misinterpretation.\n",
      "  warnings.warn(\n"
     ]
    },
    {
     "data": {
      "text/plain": [
       "Text(0.5, 1.0, 'countplot')"
      ]
     },
     "execution_count": 17,
     "metadata": {},
     "output_type": "execute_result"
    },
    {
     "data": {
      "image/png": "[encoded data removed]",
      "text/plain": [
       "<Figure size 432x288 with 1 Axes>"
      ]
     },
     "metadata": {
      "needs_background": "light"
     },
     "output_type": "display_data"
    }
   ],
   "source": [
    "sns.countplot(Corpus.Label)\n",
    "plt.xlabel(\"Label\")\n",
    "plt.title(\"countplot\")"
   ]
  },
  {
   "cell_type": "code",
   "execution_count": null,
   "id": "0ea0c150",
   "metadata": {},
   "outputs": [],
   "source": []
  },
  {
   "cell_type": "code",
   "execution_count": 18,
   "id": "edfd7511",
   "metadata": {},
   "outputs": [
    {
     "data": {
      "text/html": [
       "<div>\n",
       "<style scoped>\n",
       "    .dataframe tbody tr th:only-of-type {\n",
       "        vertical-align: middle;\n",
       "    }\n",
       "\n",
       "    .dataframe tbody tr th {\n",
       "        vertical-align: top;\n",
       "    }\n",
       "\n",
       "    .dataframe thead th {\n",
       "        text-align: right;\n",
       "    }\n",
       "</style>\n",
       "<table border=\"1\" class=\"dataframe\">\n",
       "  <thead>\n",
       "    <tr style=\"text-align: right;\">\n",
       "      <th></th>\n",
       "      <th>reviews</th>\n",
       "      <th>Label</th>\n",
       "      <th>text_original</th>\n",
       "      <th>text</th>\n",
       "    </tr>\n",
       "  </thead>\n",
       "  <tbody>\n",
       "    <tr>\n",
       "      <th>0</th>\n",
       "      <td>One of the other reviewers has mentioned that ...</td>\n",
       "      <td>positive</td>\n",
       "      <td>One of the other reviewers has mentioned that ...</td>\n",
       "      <td>[one, of, the, other, reviewers, has, mentione...</td>\n",
       "    </tr>\n",
       "    <tr>\n",
       "      <th>1</th>\n",
       "      <td>A wonderful little production. &lt;br /&gt;&lt;br /&gt;The...</td>\n",
       "      <td>positive</td>\n",
       "      <td>A wonderful little production. &lt;br /&gt;&lt;br /&gt;The...</td>\n",
       "      <td>[a, wonderful, little, production, ., &lt;, br, /...</td>\n",
       "    </tr>\n",
       "    <tr>\n",
       "      <th>2</th>\n",
       "      <td>I thought this was a wonderful way to spend ti...</td>\n",
       "      <td>positive</td>\n",
       "      <td>I thought this was a wonderful way to spend ti...</td>\n",
       "      <td>[i, thought, this, was, a, wonderful, way, to,...</td>\n",
       "    </tr>\n",
       "    <tr>\n",
       "      <th>3</th>\n",
       "      <td>Basically there's a family where a little boy ...</td>\n",
       "      <td>negative</td>\n",
       "      <td>Basically there's a family where a little boy ...</td>\n",
       "      <td>[basically, there, 's, a, family, where, a, li...</td>\n",
       "    </tr>\n",
       "    <tr>\n",
       "      <th>4</th>\n",
       "      <td>Petter Mattei's \"Love in the Time of Money\" is...</td>\n",
       "      <td>positive</td>\n",
       "      <td>Petter Mattei's \"Love in the Time of Money\" is...</td>\n",
       "      <td>[petter, mattei, 's, ``, love, in, the, time, ...</td>\n",
       "    </tr>\n",
       "  </tbody>\n",
       "</table>\n",
       "</div>"
      ],
      "text/plain": [
       "                                             reviews     Label  \\\n",
       "0  One of the other reviewers has mentioned that ...  positive   \n",
       "1  A wonderful little production. <br /><br />The...  positive   \n",
       "2  I thought this was a wonderful way to spend ti...  positive   \n",
       "3  Basically there's a family where a little boy ...  negative   \n",
       "4  Petter Mattei's \"Love in the Time of Money\" is...  positive   \n",
       "\n",
       "                                       text_original  \\\n",
       "0  One of the other reviewers has mentioned that ...   \n",
       "1  A wonderful little production. <br /><br />The...   \n",
       "2  I thought this was a wonderful way to spend ti...   \n",
       "3  Basically there's a family where a little boy ...   \n",
       "4  Petter Mattei's \"Love in the Time of Money\" is...   \n",
       "\n",
       "                                                text  \n",
       "0  [one, of, the, other, reviewers, has, mentione...  \n",
       "1  [a, wonderful, little, production, ., <, br, /...  \n",
       "2  [i, thought, this, was, a, wonderful, way, to,...  \n",
       "3  [basically, there, 's, a, family, where, a, li...  \n",
       "4  [petter, mattei, 's, ``, love, in, the, time, ...  "
      ]
     },
     "execution_count": 18,
     "metadata": {},
     "output_type": "execute_result"
    }
   ],
   "source": [
    "\n",
    "# 1. Removing Blank Spaces\n",
    "Corpus['reviews'].dropna(inplace=True)\n",
    "# 2. Changing all text to lowercase\n",
    "Corpus['text_original'] = Corpus['reviews']\n",
    "Corpus['text'] = [entry.lower() for entry in Corpus['reviews']]\n",
    "# 3. Tokenization-In this each entry in the corpus will be broken into set of words\n",
    "Corpus['text']= [word_tokenize(entry) for entry in Corpus['text']]\n",
    "# 4. Remove Stop words, Non-Numeric and perfoming Word Stemming/Lemmenting.\n",
    "# WordNetLemmatizer requires Pos tags to understand if the word is noun or verb or adjective etc. By default it is set to Noun\n",
    "tag_map = defaultdict(lambda : wn.NOUN)\n",
    "tag_map['J'] = wn.ADJ\n",
    "tag_map['V'] = wn.VERB\n",
    "tag_map['R'] = wn.ADV\n",
    "\n",
    "Corpus.head()"
   ]
  },
  {
   "cell_type": "code",
   "execution_count": 19,
   "id": "b28f16e8",
   "metadata": {},
   "outputs": [],
   "source": [
    "for index,entry in enumerate(Corpus['text']):\n",
    "    # Declaring Empty List to store the words that follow the rules for this step\n",
    "    Final_words = []\n",
    "    # Initializing WordNetLemmatizer()\n",
    "    word_Lemmatized = WordNetLemmatizer()\n",
    "    # pos_tag function below will provide the 'tag' i.e if the word is Noun(N) or Verb(V) or something else.\n",
    "    for word, tag in pos_tag(entry):\n",
    "        # Below condition is to check for Stop words and consider only alphabets\n",
    "        if word not in stopwords.words('english') and word.isalpha():\n",
    "            word_Final = word_Lemmatized.lemmatize(word,tag_map[tag[0]])\n",
    "            Final_words.append(word_Final)\n",
    "    # The final processed set of words for each iteration will be stored in 'text_final'\n",
    "    Corpus.loc[index,'text_final'] = str(Final_words)"
   ]
  },
  {
   "cell_type": "code",
   "execution_count": 20,
   "id": "ea98076c",
   "metadata": {},
   "outputs": [],
   "source": [
    "Corpus.drop(['text'], axis=1)\n",
    "output_path = 'preprocessed_data_MS.csv'\n",
    "Corpus.to_csv(output_path, index=False)"
   ]
  },
  {
   "cell_type": "code",
   "execution_count": 22,
   "id": "ca1f43b2",
   "metadata": {},
   "outputs": [],
   "source": [
    "Train_X, Test_X, Train_Y, Test_Y = model_selection.train_test_split(Corpus['text_final'],Corpus['Label'],test_size=0.1)"
   ]
  },
  {
   "cell_type": "code",
   "execution_count": 23,
   "id": "63d389ba",
   "metadata": {},
   "outputs": [],
   "source": [
    "Encoder = LabelEncoder()\n",
    "Train_Y = Encoder.fit_transform(Train_Y)\n",
    "Test_Y = Encoder.fit_transform(Test_Y)"
   ]
  },
  {
   "cell_type": "code",
   "execution_count": 28,
   "id": "2487a8fe",
   "metadata": {},
   "outputs": [
    {
     "name": "stdout",
     "output_type": "stream",
     "text": [
      "{'one': 1730, 'reviewer': 2133, 'mention': 1516, 'watch': 2892, 'oz': 1772, 'episode': 942, 'hook': 1180, 'right': 2145, 'exactly': 974, 'happen': 1143, 'br': 335, 'first': 1055, 'thing': 2629, 'strike': 2493, 'brutality': 364, 'unflinching': 2771, 'scene': 2225, 'violence': 2853, 'set': 2277, 'word': 2955, 'go': 1107, 'trust': 2732, 'show': 2314, 'timid': 2660, 'pull': 1977, 'punch': 1978, 'regard': 2063, 'drug': 848, 'sex': 2282, 'classic': 490, 'use': 2813, 'call': 400, 'nickname': 1660, 'give': 1101, 'oswald': 1749, 'maximum': 1488, 'security': 2254, 'state': 2452, 'penitentary': 1824, 'focus': 1061, 'mainly': 1434, 'emerald': 905, 'city': 484, 'experimental': 997, 'section': 2253, 'prison': 1938, 'cell': 436, 'front': 1076, 'face': 1016, 'privacy': 1940, 'high': 1163, 'agenda': 60, 'em': 902, 'home': 1176, 'many': 1456, 'aryan': 164, 'muslim': 1608, 'latino': 1324, 'christian': 473, 'italian': 1239, 'irish': 1234, 'scuffle': 2244, 'death': 705, 'stare': 2448, 'dodgy': 821, 'dealing': 703, 'shady': 2287, 'agreement': 67, 'never': 1650, 'far': 1029, 'would': 2966, 'say': 2216, 'main': 1432, 'appeal': 141, 'due': 855, 'fact': 1018, 'dare': 685, 'forget': 1064, 'pretty': 1930, 'picture': 1855, 'paint': 1782, 'mainstream': 1435, 'audience': 189, 'charm': 454, 'romance': 2164, 'mess': 1519, 'around': 156, 'ever': 964, 'saw': 2215, 'nasty': 1622, 'surreal': 2545, 'could': 608, 'ready': 2036, 'develop': 760, 'taste': 2583, 'get': 1097, 'accustom': 23, 'level': 1354, 'graphic': 1123, 'crooked': 647, 'guard': 1127, 'sell': 2262, 'nickel': 1659, 'inmate': 1217, 'kill': 1286, 'order': 1742, 'away': 203, 'well': 2910, 'mannered': 1454, 'middle': 1526, 'class': 489, 'turn': 2738, 'bitch': 280, 'lack': 1310, 'street': 2489, 'skill': 2356, 'experience': 994, 'watching': 2894, 'may': 1489, 'become': 246, 'comfortable': 531, 'uncomfortable': 2757, 'view': 2845, 'thats': 2623, 'touch': 2682, 'darker': 687, 'side': 2325, 'wonderful': 2950, 'little': 1383, 'production': 1947, 'filming': 1046, 'technique': 2591, 'fashion': 1031, 'comforting': 532, 'sometimes': 2396, 'discomforting': 793, 'sense': 2265, 'realism': 2038, 'entire': 934, 'piece': 1856, 'actor': 32, 'extremely': 1014, 'michael': 1525, 'sheen': 2299, 'polari': 1882, 'voice': 2866, 'pat': 1807, 'truly': 2731, 'see': 2255, 'seamless': 2248, 'edit': 879, 'reference': 2059, 'williams': 2932, 'diary': 767, 'entry': 939, 'worth': 2963, 'terrificly': 2614, 'write': 2973, 'perform': 1831, 'masterful': 1477, 'great': 1124, 'master': 1476, 'comedy': 529, 'life': 1362, 'really': 2041, 'come': 526, 'rather': 2028, 'traditional': 2695, 'remain': 2077, 'solid': 2392, 'disappear': 782, 'play': 1869, 'knowledge': 1297, 'sens': 2264, 'particularly': 1799, 'concern': 558, 'orton': 1747, 'halliwell': 1139, 'flat': 1058, 'mural': 1601, 'decorate': 717, 'every': 965, 'surface': 2541, 'terribly': 2612, 'do': 816, 'think': 2630, 'way': 2896, 'spend': 2426, 'time': 2657, 'hot': 1187, 'summer': 2529, 'weekend': 2907, 'sit': 2350, 'air': 72, 'condition': 562, 'theater': 2624, 'plot': 1875, 'simplistic': 2338, 'dialogue': 766, 'witty': 2945, 'character': 450, 'likable': 1366, 'even': 960, 'bread': 342, 'suspect': 2552, 'serial': 2271, 'killer': 1287, 'disappoint': 783, 'realize': 2040, 'match': 1480, 'point': 1879, 'risk': 2149, 'addiction': 41, 'proof': 1956, 'woody': 2954, 'allen': 87, 'still': 2469, 'fully': 1080, 'control': 588, 'style': 2507, 'grow': 1125, 'laugh': 1326, 'year': 2985, 'decade': 707, 'scarlet': 2221, 'manage': 1446, 'tone': 2671, 'sexy': 2284, 'jump': 1261, 'average': 193, 'spirit': 2431, 'young': 2992, 'crown': 650, 'career': 420, 'devil': 763, 'wear': 2902, 'prada': 1914, 'interesting': 1225, 'superman': 2535, 'friend': 1075, 'basically': 235, 'family': 1025, 'boy': 334, 'jake': 1242, 'zombie': 2997, 'closet': 509, 'parent': 1795, 'fight': 1043, 'movie': 1593, 'slow': 2373, 'soap': 2386, 'opera': 1735, 'suddenly': 2521, 'decides': 712, 'rambo': 2015, 'ok': 1723, 'make': 1439, 'film': 1045, 'must': 1609, 'decide': 711, 'thriller': 2641, 'drama': 838, 'watchable': 2893, 'divorce': 813, 'argue': 153, 'like': 1367, 'real': 2037, 'totally': 2681, 'ruin': 2181, 'expect': 991, 'boogeyman': 317, 'similar': 2334, 'instead': 1222, 'meaningless': 1496, 'descent': 743, 'dialog': 765, 'shot': 2312, 'petter': 1843, 'mattei': 1483, 'love': 1406, 'money': 1571, 'visually': 2859, 'stunning': 2502, 'offer': 1716, 'vivid': 2863, 'portrait': 1897, 'human': 1193, 'relation': 2070, 'seem': 2256, 'tell': 2600, 'power': 1910, 'success': 2515, 'people': 1826, 'different': 769, 'situation': 2352, 'encounter': 915, 'variation': 2828, 'arthur': 161, 'schnitzler': 2229, 'theme': 2625, 'director': 780, 'transfer': 2706, 'action': 31, 'present': 1927, 'new': 1651, 'york': 2991, 'meet': 1504, 'connect': 572, 'another': 125, 'next': 1655, 'person': 1837, 'know': 1296, 'previous': 1932, 'contact': 582, 'stylishly': 2508, 'sophisticated': 2402, 'luxurious': 1420, 'look': 1396, 'take': 2574, 'live': 1385, 'world': 2958, 'soul': 2407, 'stage': 2440, 'loneliness': 1392, 'big': 271, 'best': 266, 'place': 1864, 'find': 1051, 'sincere': 2342, 'discerns': 791, 'case': 428, 'acting': 30, 'good': 1114, 'direction': 779, 'steve': 2464, 'buscemi': 380, 'rosario': 2174, 'dawson': 694, 'carol': 422, 'kane': 1269, 'adrian': 46, 'rest': 2117, 'talented': 2577, 'cast': 430, 'wish': 2940, 'luck': 1413, 'await': 196, 'anxiously': 130, 'work': 2956, 'probably': 1941, 'favorite': 1034, 'story': 2481, 'selflessness': 2260, 'sacrifice': 2193, 'dedication': 718, 'noble': 1668, 'cause': 435, 'preachy': 1915, 'boring': 324, 'old': 1725, 'despite': 753, 'last': 1321, 'paul': 1813, 'lukas': 1416, 'performance': 1832, 'bring': 357, 'tear': 2588, 'eye': 1015, 'bette': 268, 'davis': 692, 'sympathetic': 2564, 'role': 2161, 'delight': 725, 'kid': 1282, 'midget': 1527, 'child': 463, 'fun': 1081, 'mother': 1588, 'awakening': 199, 'roof': 2169, 'believable': 256, 'startle': 2450, 'dozen': 835, 'thumb': 2646, 'sure': 2538, 'resurrection': 2123, 'dated': 689, 'seahunt': 2247, 'series': 2272, 'tech': 2589, 'today': 2666, 'back': 210, 'excitement': 983, 'black': 285, 'white': 2920, 'tv': 2739, 'hero': 1160, 'vote': 2871, 'comeback': 527, 'sea': 2246, 'need': 1637, 'change': 449, 'pace': 1773, 'water': 2895, 'thank': 2620, 'outlet': 1758, 'viewpoint': 2848, 'ole': 1726, 'believe': 257, 'wan': 2881, 'na': 1614, 'nice': 1656, 'read': 2034, 'plus': 1877, 'rhyme': 2138, 'line': 1371, 'let': 1352, 'submit': 2510, 'leave': 1340, 'doubt': 829, 'quit': 1999, 'lets': 1353, 'amazing': 102, 'fresh': 1074, 'innovative': 1218, 'idea': 1197, 'brilliant': 355, 'drop': 847, 'funny': 1082, 'anymore': 132, 'continue': 584, 'decline': 715, 'complete': 550, 'waste': 2890, 'disgraceful': 799, 'fall': 1023, 'writing': 2975, 'painfully': 1781, 'bad': 212, 'almost': 90, 'mildly': 1533, 'entertaining': 932, 'respite': 2115, 'hard': 1146, 'creator': 629, 'original': 1744, 'also': 95, 'choose': 470, 'band': 220, 'follow': 1062, 'recognize': 2049, 'brilliance': 354, 'fit': 1056, 'replace': 2095, 'mediocrity': 1499, 'felt': 1040, 'star': 2447, 'respect': 2113, 'huge': 1192, 'awful': 205, 'ca': 393, 'encourage': 916, 'positive': 1901, 'comment': 535, 'forward': 1067, 'mistake': 1556, 'editing': 881, 'pacing': 1774, 'storyline': 2482, 'soundtrack': 2410, 'song': 2400, 'lame': 1312, 'country': 612, 'tune': 2736, 'less': 1349, 'cheap': 456, 'bore': 322, 'extreme': 1013, 'rarely': 2024, 'happy': 1144, 'end': 918, 'credit': 632, 'prevent': 1931, 'keitel': 1278, 'least': 1339, 'bit': 279, 'effort': 886, 'obsessives': 1704, 'gut': 1131, 'wrench': 2970, 'laughter': 1328, 'hell': 1154, 'mom': 1568, 'camp': 404, 'phil': 1845, 'alien': 84, 'quirky': 1998, 'humour': 1195, 'base': 232, 'oddness': 1712, 'everything': 968, 'actual': 34, 'odd': 1710, 'progress': 1951, 'joke': 1252, 'low': 1410, 'budget': 368, 'problem': 1942, 'eventually': 963, 'lose': 1400, 'stoner': 2478, 'currently': 666, 'something': 2395, 'try': 2734, 'brother': 362, 'planet': 1867, 'recall': 2046, 'scary': 2223, 'bird': 277, 'eat': 875, 'men': 1512, 'dangle': 683, 'parachute': 1792, 'horror': 1186, 'cheesy': 459, 'saturday': 2212, 'afternoon': 57, 'tire': 2662, 'formula': 1065, 'monster': 1577, 'type': 2747, 'usually': 2816, 'include': 1210, 'beautiful': 243, 'woman': 2948, 'might': 1530, 'daughter': 690, 'professor': 1949, 'resolution': 2112, 'die': 768, 'care': 419, 'much': 1595, 'romantic': 2165, 'angle': 116, 'predictable': 1917, 'unintentional': 2782, 'later': 1323, 'psycho': 1972, 'leigh': 1346, 'bump': 376, 'early': 869, 'notice': 1689, 'since': 2341, 'screenwriter': 2241, 'possible': 1903, 'rule': 2182, 'im': 1201, 'fan': 1027, 'boll': 310, 'enjoy': 926, 'postal': 1905, 'maybe': 1490, 'apparently': 140, 'buy': 391, 'cry': 656, 'long': 1394, 'ago': 65, 'game': 1085, 'mercs': 1517, 'infiltrate': 1214, 'secret': 2252, 'research': 2108, 'lab': 1306, 'locate': 1388, 'tropical': 2726, 'island': 1237, 'warn': 2886, 'mr': 1594, 'scheme': 2227, 'together': 2667, 'along': 92, 'legion': 1345, 'schmuck': 2228, 'feel': 1036, 'loneley': 1391, 'invite': 1231, 'three': 2639, 'countryman': 613, 'player': 1871, 'name': 1617, 'til': 2655, 'schweiger': 2231, 'udo': 2749, 'kier': 1285, 'ralf': 2010, 'actually': 35, 'selfs': 2261, 'biz': 283, 'tale': 2575, 'jack': 1241, 'carver': 427, 'yes': 2988, 'german': 1096, 'hail': 1135, 'bratwurst': 339, 'dude': 854, 'however': 1191, 'tils': 2656, 'act': 29, 'badass': 213, 'complain': 548, 'stay': 2454, 'true': 2730, 'whole': 2923, 'perspective': 1840, 'kick': 1281, 'beyond': 270, 'demented': 728, 'evil': 970, 'mad': 1423, 'scientist': 2233, 'krieger': 1302, 'gm': 1106, 'remind': 2084, 'spoiler': 2435, 'vancouver': 2824, 'reason': 2042, 'palm': 1788, 'tree': 2715, 'rich': 2139, 'start': 2449, 'mehehe': 1505, 'shenanigan': 2302, 'deliver': 727, 'mean': 1494, 'area': 151, 'boat': 304, 'squad': 2437, 'enter': 930, 'reek': 2058, 'scheisse': 2226, 'poop': 1888, 'simpleton': 2337, 'wiff': 2927, 'ahead': 69, 'btw': 365, 'annoying': 124, 'sidekick': 2326, 'shoot': 2308, 'minute': 1546, 'screen': 2239, 'shakespeare': 2288, 'appreciate': 145, 'mass': 1474, 'scottish': 2236, 'certain': 442, 'rev': 2129, 'bowdler': 331, 'hence': 1158, 'bowdlerization': 332, 'victorian': 2842, 'improve': 1207, 'ten': 2604, 'text': 2618, 'english': 924, 'composition': 553, 'keep': 1277, 'saying': 2217, 'cut': 670, 'fantastic': 1028, 'prisoner': 1939, 'famous': 1026, 'george': 1095, 'clooney': 507, 'roll': 2163, 'man': 1445, 'constant': 579, 'sorrow': 2403, 'recommand': 2050, 'everybody': 966, 'bart': 231, 'kind': 1289, 'drawn': 841, 'erotic': 949, 'amateurish': 100, 'unbelievable': 2756, 'sort': 2405, 'school': 2230, 'project': 1952, 'rosanna': 2173, 'arquette': 157, 'stock': 2476, 'bizarre': 284, 'suppose': 2537, 'midwest': 1529, 'town': 2688, 'involve': 1232, 'lesson': 1350, 'learn': 1338, 'stilted': 2470, 'quite': 2000, 'ridiculous': 2143, 'lot': 1402, 'skin': 2358, 'intrigue': 1227, 'videotape': 2844, 'nonsense': 1676, 'bisexual': 278, 'relationship': 2071, 'nowhere': 1693, 'absurd': 11, 'dance': 679, 'stereotyped': 2461, 'pas': 1801, 'million': 1536, 'mile': 1534, 'wasted': 2891, 'starve': 2451, 'aid': 71, 'africa': 55, 'simply': 2339, 'remake': 2078, 'fail': 1020, 'capture': 416, 'terror': 2615, 'title': 2663, 'liam': 1356, 'neeson': 1638, 'excellent': 978, 'always': 99, 'hold': 1172, 'exception': 980, 'owen': 1770, 'wilson': 2935, 'luke': 1417, 'major': 1437, 'version': 2837, 'stray': 2488, 'shirley': 2305, 'attempt': 184, 'thrill': 2640, 'trade': 2693, 'snazzy': 2380, 'special': 2419, 'effect': 884, 'top': 2675, 'horrible': 1185, 'continuous': 586, 'chance': 448, 'development': 761, 'busy': 387, 'run': 2185, 'sword': 2562, 'emotional': 909, 'attachment': 182, 'except': 979, 'machine': 1421, 'want': 2883, 'destroy': 754, 'blatantly': 288, 'steal': 2455, 'lotr': 1403, 'war': 2884, 'matrix': 1482, 'examples': 976, 'final': 1048, 'yoda': 2990, 'obee': 1700, 'vader': 2819, 'spider': 2428, 'beginning': 250, 'attack': 183, 'return': 2128, 'king': 1291, 'elijah': 898, 'wood': 2952, 'victim': 2841, 'wait': 2876, 'sting': 2471, 'wrap': 2968, 'uh': 2750, 'hello': 1155, 'terminator': 2610, 'example': 975, 'someone': 2394, 'nazi': 1628, 'juvenile': 1266, 'rush': 2187, 'conclusion': 560, 'adult': 47, 'either': 889, 'disappointment': 787, 'save': 2214, 'remember': 2082, 'cinema': 479, 'dark': 686, 'nervous': 1647, 'dad': 675, 'sister': 2349, 'newbury': 1652, 'berkshire': 263, 'england': 923, 'tiger': 2652, 'snow': 2385, 'appearance': 143, 'adam': 37, 'dan': 678, 'dy': 867, 'anyone': 133, 'dvd': 865, 'etc': 955, 'please': 1872, 'club': 510, 'shame': 2293, 'near': 1629, 'hear': 1152, 'others': 1751, 'stinker': 2473, 'nominate': 1670, 'golden': 1110, 'female': 1041, 'renaissance': 2088, 'painter': 1783, 'mangle': 1450, 'recognition': 2048, 'complaint': 549, 'liberty': 1359, 'perfectly': 1830, 'fine': 1052, 'account': 21, 'artist': 163, 'script': 2242, 'enough': 928, 'naked': 1616, 'cap': 412, 'summary': 2528, 'couple': 614, 'hour': 1189, 'brevity': 348, 'sequel': 2269, 'surprise': 2543, 'glut': 1105, 'cash': 429, 'wrong': 2976, 'guy': 1132, 'concept': 557, 'cliffhanger': 499, 'mountain': 1590, 'rescue': 2107, 'sly': 2374, 'stallone': 2441, 'dream': 843, 'especially': 951, 'expert': 998, 'climbing': 502, 'aviation': 194, 'facial': 1017, 'expression': 1009, 'full': 1079, 'excuse': 984, 'dismiss': 805, 'overblown': 1762, 'pile': 1858, 'junk': 1263, 'lovable': 1405, 'undeniably': 2760, 'romp': 2167, 'plenty': 1873, 'unintentionally': 2783, 'john': 1251, 'lithgows': 1381, 'sneery': 2381, 'evilness': 971, 'tick': 2650, 'box': 333, 'baddie': 214, 'permanently': 1836, 'agent': 61, 'rex': 2137, 'linn': 1374, 'henry': 1159, 'rooker': 2170, 'noteworthy': 1687, 'hal': 1136, 'insist': 1220, 'constantly': 580, 'shriek': 2318, 'painful': 1780, 'disbelief': 790, 'captor': 415, 'anybody': 131, 'whilst': 2919, 'surely': 2539, 'ralph': 2011, 'waite': 2877, 'frank': 1070, 'girl': 1099, 'plummet': 1876, 'burn': 379, 'craig': 621, 'brit': 358, 'cropper': 648, 'help': 1156, 'judgement': 1259, 'expectation': 992, 'volume': 2868, 'qaulen': 1988, 'terrible': 2611, 'misfortune': 1551, 'aspect': 169, 'sequence': 2270, 'fake': 1022, 'pack': 1776, 'crappy': 624, 'respectable': 2114, 'amuse': 109, 'gear': 1090, 'towards': 2687, 'utterly': 2818, 'unattractive': 2753, 'wrinkle': 2972, 'appear': 142, 'weird': 2908, 'costume': 607, 'miserably': 1550, 'absolutely': 8, 'wo': 2946, 'regret': 2066, 'rajnikanth': 2009, 'carry': 426, 'shoulder': 2313, 'although': 96, 'anything': 134, 'music': 1606, 'straight': 2483, 'anime': 121, 'matter': 1484, 'speed': 2423, 'racer': 2005, 'preschool': 1925, 'several': 2281, 'hilarious': 1166, 'godzilla': 1109, 'move': 1592, 'usual': 2815, 'fx': 1084, 'boom': 319, 'wwwaaaaayyyyy': 2978, 'animation': 120, 'crissakes': 639, 'vividly': 2864, 'bunch': 377, 'dinosaur': 777, 'addition': 42, 'transition': 2708, 'unorganized': 2794, 'dub': 852, 'beg': 248, 'tape': 2580, 'vhs': 2839, 'survive': 2548, 'crack': 620, 'robot': 2159, 'pick': 1853, 'season': 2249, 'honestly': 1177, 'barely': 226, 'plan': 1865, 'fellow': 1039, 'otaku': 1750, 'pal': 1785, 'mine': 1541, 'night': 1662, 'stupid': 2504, 'originally': 1745, 'accord': 20, 'grade': 1120, 'scale': 2220, 'counting': 611, 'unless': 2789, 'count': 609, 'worldfest': 2959, 'receive': 2047, 'amount': 108, 'applause': 144, 'afterwards': 58, 'known': 1298, 'actress': 33, 'part': 1797, 'allow': 89, 'judge': 1258, 'unsympathetic': 2802, 'therefore': 2627, 'depth': 741, 'revolve': 2136, 'cop': 598, 'karen': 1271, 'carpenter': 424, 'singer': 2344, 'complex': 552, 'though': 2634, 'accurate': 22, 'cynthia': 674, 'portrays': 1899, 'election': 892, 'naive': 1615, 'dumb': 859, 'strong': 2495, 'louise': 1404, 'agnes': 64, 'terrific': 2613, 'job': 1250, 'album': 78, 'unfortunately': 2775, 'rating': 2029, 'usa': 2812, 'exotic': 989, 'masterpiece': 1479, 'dizzying': 814, 'trip': 2723, 'vast': 2830, 'mind': 1539, 'conclusive': 561, 'evidence': 969, 'achieve': 24, 'being': 253, 'unleash': 2788, 'uninhibited': 2781, 'imagination': 1202, 'boldness': 309, 'push': 1984, 'aside': 167, 'thought': 2635, 'cliche': 496, 'create': 627, 'magnificent': 1430, 'numerous': 1697, 'anywhere': 136, 'substance': 2511, 'poorly': 1890, 'negatively': 1640, 'criticize': 641, 'miss': 1553, 'landmark': 1314, 'tradition': 2694, 'future': 1083, 'hopefully': 1183, 'open': 1733, 'door': 826, 'slam': 2360, 'tarsem': 2582, 'singh': 2345, 'personally': 1839, 'welcome': 2909, 'challenge': 445, 'talk': 2578, 'inside': 1219, 'agree': 66, 'genre': 1093, 'overworked': 1769, 'depict': 737, 'blaze': 289, 'trail': 2697, 'twist': 2743, 'physically': 1852, 'transport': 2709, 'nothing': 1688, 'journey': 1256, 'mysterious': 1612, 'subject': 2509, 'bog': 307, 'scientific': 2232, 'explain': 999, 'jennifer': 1247, 'lopez': 1398, 'brain': 336, 'lie': 1361, 'laboratory': 1308, 'table': 2567, 'twizzlers': 2744, 'entity': 936, 'guess': 1129, 'explanation': 1000, 'venture': 2834, 'onto': 1732, 'desire': 749, 'reality': 2039, 'contrast': 587, 'bright': 353, 'visuals': 2860, 'nonetheless': 1675, 'design': 748, 'astonish': 175, 'oscar': 1748, 'cinematography': 480, 'repeat': 2093, 'else': 899, 'stress': 2491, 'walk': 2879, 'wonder': 2949, 'assure': 174, 'crazy': 626, 'psychology': 1974, 'alley': 88, 'member': 1508, 'whoever': 2922, 'stinging': 2472, 'political': 1884, 'satire': 2210, 'hollywood': 1174, 'blockbuster': 292, 'sappy': 2206, 'value': 2823, 'promo': 1954, 'list': 1375, 'interest': 1224, 'behind': 252, 'depress': 739, 'clumsy': 512, 'target': 2581, 'reflect': 2060, 'existence': 988, 'serious': 2273, 'critique': 642, 'poor': 1889, 'particular': 1798, 'corporatization': 602, 'poke': 1881, 'diminish': 775, 'atrocity': 180, 'reminds': 2085, 'similarly': 2335, 'trivialize': 2724, 'genuine': 1094, 'energetic': 920, 'prepared': 1924, 'able': 5, 'stand': 2443, 'loop': 1397, 'america': 104, 'video': 2843, 'damn': 677, 'hat': 1147, 'speak': 2418, 'responsible': 2116, 'hang': 1142, 'transcends': 2705, 'gloriously': 1102, 'badness': 215, 'dancing': 681, 'redo': 2056, 'clichéd': 497, 'rehash': 2067, 'unavoidable': 2754, 'conflict': 567, 'deal': 702, 'combat': 525, 'compelling': 546, 'silver': 2333, 'civil': 485, 'cold': 519, 'jude': 1257, 'law': 1329, 'nicole': 1661, 'kidman': 1283, 'renée': 2092, 'zellweger': 2996, 'entirely': 935, 'literally': 1379, 'battle': 237, 'put': 1986, 'glory': 1103, 'edward': 883, 'period': 1834, 'center': 438, 'disgruntled': 800, 'confederate': 564, 'soldier': 2390, 'inman': 1216, 'disgust': 801, 'gruesome': 1126, 'north': 1681, 'carolina': 423, 'equally': 943, 'southern': 2412, 'belle': 258, 'ada': 36, 'monroe': 1576, 'setup': 2280, 'formulaic': 1066, 'sympathy': 2565, 'root': 2172, 'reluctant': 2076, 'tribulation': 2719, 'battlefield': 238, 'indeed': 1211, 'segment': 2258, 'relatively': 2073, 'unimpressive': 2780, 'somewhat': 2397, 'soon': 2401, 'drastic': 839, 'deserter': 746, 'incidentally': 1209, 'potentially': 1908, 'confusing': 571, 'scenario': 2224, 'begin': 249, 'odyssey': 1714, 'meanwhile': 1498, 'farm': 1030, 'cultured': 661, 'prove': 1969, 'transform': 2707, 'wilderbeast': 2930, 'course': 616, 'ruby': 2180, 'thewes': 2628, 'perhaps': 1833, 'cope': 599, 'upon': 2806, 'within': 2943, 'two': 2745, 'setting': 2278, 'disturb': 810, 'south': 2411, 'unfolds': 2773, 'surprisingly': 2544, 'enhance': 925, 'brendan': 347, 'deadbeat': 699, 'father': 1032, 'ray': 2031, 'winstone': 2939, 'unrepentant': 2800, 'lawman': 1330, 'natalie': 1623, 'portman': 1896, 'deeply': 720, 'troubled': 2728, 'affected': 52, 'northern': 1682, 'aggression': 63, 'mostly': 1587, 'worse': 2962, 'pervade': 1841, 'message': 1520, 'accent': 13, 'effective': 885, 'haunt': 1149, 'score': 2235, 'chillingly': 466, 'virginia': 2855, 'communicate': 541, 'scarred': 2222, 'land': 1313, 'traumatized': 2711, 'weapon': 2900, 'tactic': 2571, 'past': 1806, 'century': 440, 'timelessly': 2658, 'anthony': 127, 'minghella': 1542, 'maintain': 1436, 'mood': 1578, 'atmosphere': 179, 'denigrate': 730, 'tepid': 2608, 'climax': 500, 'justice': 1264, 'wonderfully': 2951, 'awkwardly': 206, 'tack': 2569, 'distant': 808, 'abstract': 10, 'nature': 1627, 'dismal': 804, 'neither': 1643, 'trait': 2702, 'unique': 2785, 'vision': 2856, 'era': 945, 'entertain': 931, 'absorb': 9, 'torn': 2677, 'apart': 137, 'desperate': 752, 'rid': 2141, 'repercussion': 2094, 'altogether': 97, 'taut': 2585, 'organically': 1743, 'dmytryk': 815, 'crossfire': 649, 'distinctive': 809, 'suspense': 2553, 'unlikely': 2791, 'device': 762, 'noir': 1669, 'bivouac': 282, 'washington': 2889, 'dc': 696, 'company': 543, 'restlessness': 2118, 'bar': 224, 'stranger': 2486, 'apartment': 138, 'robert': 2156, 'ryan': 2189, 'drunk': 850, 'belligerent': 259, 'beat': 242, 'sam': 2205, 'levene': 1355, 'police': 1883, 'detective': 756, 'mitchum': 1559, 'assign': 170, 'outfit': 1754, 'suspicion': 2554, 'second': 2250, 'cooper': 597, 'vanish': 2825, 'slay': 2364, 'third': 2631, 'buddy': 367, 'brodie': 360, 'silence': 2330, 'close': 508, 'abet': 1, 'superior': 2534, 'paxton': 1817, 'draw': 840, 'precise': 1916, 'bob': 305, 'naturally': 1626, 'prototypical': 1966, 'angry': 118, 'male': 1443, 'underplays': 2761, 'characteristic': 451, 'alert': 80, 'nonchalance': 1673, 'central': 439, 'rendition': 2090, 'vulnerable': 2872, 'tramp': 2703, 'sad': 2194, 'sack': 2192, 'leech': 1342, 'kelly': 1279, 'small': 2375, 'peripheral': 1835, 'politically': 1885, 'engage': 921, 'succumb': 2517, 'sermonize': 2275, 'confine': 566, 'reminiscence': 2086, 'hand': 1141, 'bigot': 272, 'earlier': 868, 'thus': 2649, 'stretch': 2492, 'chronology': 475, 'limit': 1368, 'render': 2089, 'hate': 1148, 'jew': 1248, 'hillbilly': 1168, 'curiously': 665, 'survives': 2549, 'novel': 1692, 'richard': 2140, 'brook': 361, 'brick': 350, 'dealt': 704, 'murder': 1602, 'pale': 1787, 'news': 1653, 'holocaust': 1175, 'emerge': 906, 'ash': 165, 'europe': 957, 'embolden': 904, 'register': 2065, 'protest': 1964, 'studio': 2498, 'quake': 1991, 'prospect': 1960, 'offend': 1715, 'potential': 1907, 'ticket': 2651, 'buyer': 392, 'specific': 2420, 'smoothly': 2378, 'chat': 455, 'lonesome': 1393, 'tow': 2686, 'raise': 2008, 'question': 1994, 'whether': 2918, 'retain': 2124, 'inadvertently': 1208, 'discreet': 797, 'engine': 922, 'murderous': 1604, 'rage': 2006, 'ardh': 150, 'satya': 2213, 'indian': 1213, 'direct': 778, 'govind': 1118, 'nihalani': 1664, 'successful': 2516, 'hit': 1170, 'parallel': 1793, 'commercial': 537, 'lead': 1334, 'mumbai': 1598, 'unlike': 2790, 'encompass': 914, 'system': 2566, 'practical': 1912, 'outlay': 1757, 'approach': 147, 'amongst': 107, 'various': 2829, 'officer': 1719, 'colleague': 521, 'describe': 744, 'anand': 110, 'velankar': 2833, 'constable': 578, 'suffers': 2522, 'ideology': 1199, 'crime': 635, 'craving': 625, 'satisfaction': 2211, 'wherein': 2916, 'trample': 2704, 'frustration': 1077, 'desired': 750, 'result': 2121, 'anger': 114, 'express': 1008, 'excessive': 981, 'remand': 2079, 'room': 2171, 'alive': 86, 'aware': 202, 'metro': 1522, 'politician': 1886, 'associate': 172, 'compromise': 554, 'unethical': 2767, 'practice': 1913, 'negative': 1639, 'finally': 1050, 'thoroughly': 2633, 'core': 601, 'memorable': 1510, 'break': 343, 'underworld': 2765, 'gangster': 1087, 'rama': 2014, 'shetty': 2303, 'house': 1190, 'arrest': 159, 'short': 2310, 'conversation': 591, 'alcoholism': 79, 'corruption': 605, 'influence': 1215, 'courage': 615, 'deception': 709, 'belongs': 260, 'om': 1729, 'puri': 1982, 'portray': 1898, 'traverse': 2712, 'emotion': 908, 'brilliantly': 356, 'exposure': 1007, 'templarios': 2602, 'excite': 982, 'among': 106, 'offering': 1717, 'anchor': 111, 'bay': 239, 'cult': 660, 'baby': 209, 'print': 1936, 'quality': 1993, 'alone': 91, 'deadly': 700, 'dull': 857, 'opening': 1734, 'villager': 2850, 'exact': 973, 'revenge': 2131, 'templar': 2601, 'motion': 1589, 'ponderous': 1887, 'ultimately': 2752, 'unfulfilling': 2776, 'add': 39, 'subtitle': 2513, 'promise': 1953, 'significant': 2329, 'quote': 2002, 'pronounce': 1955, 'halfway': 1138, 'protagonist': 1962, 'mafia': 1426, 'titta': 2664, 'di': 764, 'girolamo': 1100, 'salerno': 2200, 'italy': 1240, 'introduce': 1228, 'elegant': 893, 'sterile': 2463, 'hotel': 1188, 'canton': 411, 'switzerland': 2561, 'conduct': 563, 'business': 383, 'gradually': 1121, 'pivotal': 1862, 'yet': 2989, 'unremarkable': 2798, 'employee': 911, 'swiss': 2560, 'bank': 221, 'normally': 1679, 'dollar': 823, 'suitcase': 2526, 'tightly': 2654, 'stack': 2439, 'banknote': 222, 'quietly': 1997, 'threaten': 2638, 'coax': 514, 'manager': 1447, 'spectator': 2421, 'bluff': 297, 'without': 2944, 'catch': 434, 'truth': 2733, 'bluffed': 298, 'accept': 15, 'consequence': 574, 'trouble': 2727, 'scowling': 2238, 'taciturn': 2568, 'curt': 668, 'verge': 2836, 'reply': 2098, 'chambermaid': 447, 'waitress': 2878, 'goodbye': 1115, 'half': 1137, 'reveal': 2130, 'day': 695, 'oddly': 1711, 'disjoin': 803, 'deliberate': 724, 'seemingly': 2257, 'mundane': 1600, 'irrelevant': 1236, 'detail': 755, 'unnecessary': 2793, 'essential': 953, 'masterfully': 1478, 'construct': 581, 'identity': 1198, 'unexpectedly': 2769, 'loving': 1409, 'feeling': 1037, 'convey': 592, 'elegantly': 894, 'board': 303, 'canada': 408, 'treat': 2713, 'mobster': 1564, 'odds': 1713, 'release': 2074, 'le': 1333, 'conseguenze': 573, 'element': 895, 'insomnia': 1221, 'machinist': 1422, 'explicit': 1001, 'al': 75, 'pacino': 1775, 'symbolise': 2563, 'deep': 719, 'malaise': 1441, 'ram': 2013, 'obscurity': 1703, 'unconscious': 2758, 'impossible': 1206, 'sofia': 2389, 'olivia': 1727, 'magnani': 1429, 'legendary': 1344, 'anna': 122, 'memory': 1511, 'provide': 1970, 'tiny': 2661, 'window': 2937, 'tentatively': 2607, 'explicitly': 1002, 'spell': 2424, 'unimaginable': 2779, 'single': 2347, 'unfold': 2772, 'concedes': 556, 'representative': 2102, 'quiet': 1996, 'cinecittà': 478, 'produce': 1944, 'la': 1305, 'vita': 2861, 'neglect': 1641, 'explore': 1005, 'creation': 628, 'loss': 1401, 'occasional': 1707, 'camcorder': 401, 'drummer': 849, 'annoy': 123, 'assume': 173, 'build': 371, 'tension': 2606, 'tedious': 2593, 'button': 390, 'press': 1928, 'seriously': 2274, 'coz': 619, 'meercat': 1503, 'gon': 1113, 'anyway': 135, 'concerned': 559, 'london': 1390, 'talent': 2576, 'certainly': 443, 'avoid': 195, 'bored': 323, 'dry': 851, 'sound': 2409, 'drag': 836, 'skeleton': 2354, 'cute': 671, 'restricted': 2120, 'viewing': 2847, 'sticker': 2467, 'sweet': 2558, 'age': 59, 'edge': 878, 'restrict': 2119, 'language': 1317, 'nudity': 1695, 'nightgown': 1663, 'panty': 1790, 'miniskirt': 1544, 'humor': 1194, 'tame': 2579, 'caricature': 421, 'derivative': 742, 'unoriginal': 2795, 'slight': 2369, 'listen': 1376, 'stevens': 2465, 'rolex': 2162, 'television': 2599, 'qualify': 1992, 'rat': 2026, 'refuse': 2062, 'rent': 2091, 'pornographic': 1894, 'edited': 880, 'requiem': 2103, 'zack': 2994, 'reba': 2044, 'worry': 2961, 'suicide': 2524, 'virgin': 2854, 'teenager': 2597, 'purely': 1981, 'eleven': 896, 'twelve': 2740, 'number': 1696, 'teen': 2595, 'affect': 51, 'hopper': 1184, 'investigate': 1229, 'killing': 1288, 'dunnit': 862, 'achingly': 25, 'menace': 1513, 'thunderstorm': 2648, 'strangely': 2485, 'double': 828, 'serve': 2276, 'purpose': 1983, 'quick': 1995, 'tedium': 2594, 'unbearable': 2755, 'suggest': 2523, 'spate': 2416, 'throughout': 2642, 'apparent': 139, 'ritual': 2150, 'salt': 2203, 'pepper': 1827, 'sum': 2527, 'willing': 2933, 'completely': 551, 'nude': 1694, 'shower': 2316, 'ban': 218, 'uk': 2751, 'extended': 1011, 'curiosity': 664, 'telegraph': 2598, 'steep': 2457, 'upward': 2810, 'slope': 2371, 'obviously': 1706, 'struggle': 2496, 'figure': 1044, 'dress': 844, 'brandish': 338, 'large': 1318, 'scythe': 2245, 'slide': 2368, 'conveniently': 589, 'upright': 2808, 'okay': 1724, 'route': 2177, 'week': 2906, 'david': 691, 'morse': 1585, 'ride': 2142, 'pickle': 1854, 'coolest': 596, 'koepp': 1299, 'writer': 2974, 'rubbish': 2179, 'baffle': 216, 'hope': 1182, 'dung': 861, 'husband': 1196, 'product': 1946, 'experiment': 996, 'computer': 555, 'program': 1950, 'listless': 1377, 'propaganda': 1957, 'throw': 2643, 'disappointingly': 786, 'conspiracy': 577, 'theorist': 2626, 'declaration': 714, 'independence': 1212, 'protect': 1963, 'justify': 1265, 'nicholas': 1658, 'cage': 396, 'spews': 2427, 'bargaining': 228, 'chip': 468, 'valium': 2822, 'reasoning': 2043, 'clue': 511, 'bonus': 316, 'misogyny': 1552, 'chide': 462, 'shut': 2320, 'clearly': 494, 'slap': 2362, 'camera': 403, 'pan': 1789, 'poutily': 1909, 'benefit': 262, 'astonishingly': 176, 'majority': 1438, 'creepy': 634, 'clichés': 498, 'sucker': 2519, 'casting': 431, 'mix': 1560, 'crumby': 653, 'lift': 1364, 'worthy': 2965, 'minimum': 1543, 'requirement': 2105, 'james': 1243, 'cuba': 657, 'mindless': 1540, 'entertainment': 933, 'recommend': 2051, 'book': 318, 'splendored': 2433, 'han': 1140, 'suyin': 2555, 'tackle': 2570, 'issue': 1238, 'race': 2004, 'asian': 166, 'topic': 2676, 'personal': 1838, 'eurasian': 956, 'china': 467, 'background': 211, 'hong': 1178, 'kong': 1301, 'stereotypical': 2462, 'remembered': 2083, 'jones': 1253, 'nominated': 1671, 'doctor': 818, 'mixed': 1561, 'breed': 346, 'advent': 48, 'communism': 542, 'mainland': 1433, 'william': 2931, 'journalist': 1255, 'cover': 618, 'region': 2064, 'notch': 1685, 'chemistry': 460, 'lover': 1408, 'moment': 1569, 'affection': 53, 'melt': 1507, 'heart': 1153, 'romantically': 2166, 'overlook': 1764, 'harbor': 1145, 'consider': 575, 'sentimental': 2267, 'passé': 1805, 'shining': 2304, 'logic': 1389, 'continuity': 585, 'pain': 1779, 'gary': 1089, 'busey': 381, 'local': 1387, 'surround': 2547, 'trailer': 2698, 'jeep': 1246, 'wagoneer': 2875, 'confused': 570, 'gun': 1130, 'ensues': 929, 'blast': 286, 'cops': 600, 'domino': 824, 'drive': 846, 'circle': 481, 'tough': 2683, 'miracle': 1548, 'bullet': 373, 'grace': 1119, 'god': 1108, 'army': 155, 'dutcher': 864, 'mature': 1485, 'filmmaker': 1047, 'shaky': 2290, 'elder': 890, 'mormon': 1582, 'missionary': 1555, 'degenerate': 722, 'highly': 1165, 'unfortunate': 2774, 'event': 962, 'highlight': 1164, 'blatant': 287, 'disobedience': 806, 'exist': 987, 'alienation': 85, 'unrealistically': 2797, 'accomplishes': 19, 'predominantly': 1919, 'mission': 1554, 'attest': 186, 'gang': 1086, 'california': 399, 'contain': 583, 'mild': 1532, 'available': 192, 'send': 2263, 'factory': 1019, 'pride': 1934, 'american': 105, 'car': 417, 'note': 1686, 'degree': 723, 'ninth': 1665, 'keen': 1276, 'laziness': 1332, 'pseudo': 1971, 'relative': 2072, 'sake': 2197, 'honor': 1179, 'accomplish': 18, 'downward': 834, 'spiral': 2430, 'overseas': 1767, 'disclaimer': 792, 'musical': 1607, 'taint': 2573, 'douglas': 831, 'kasey': 1272, 'worthwhile': 2964, 'compare': 544, 'dancer': 680, 'sing': 2343, 'easy': 874, 'decor': 716, 'light': 1365, 'common': 540, 'opinion': 1737, 'obvious': 1705, 'singing': 2346, 'portion': 1895, 'enjoyable': 927, 'protocol': 1965, 'implausible': 1205, 'whose': 2924, 'goldie': 1111, 'hawn': 1150, 'support': 2536, 'ditzy': 811, 'cocktail': 516, 'arab': 148, 'dignitary': 772, 'downhill': 833, 'classify': 492, 'voight': 2867, 'mary': 1472, 'steenburgen': 2456, 'erase': 946, 'cv': 673, 'historically': 1169, 'xena': 2980, 'abraham': 6, 'moses': 1586, 'meld': 1506, 'noah': 1667, 'nephew': 1645, 'thousand': 2636, 'bear': 241, 'canaanite': 407, 'wander': 2882, 'earth': 870, 'scriptwriter': 2243, 'animal': 119, 'stuff': 2500, 'sunday': 2531, 'archaeologist': 149, 'psychologist': 1973, 'linguist': 1372, 'modicum': 1567, 'wince': 2936, 'preston': 1929, 'sturgis': 2505, 'unseen': 2801, 'public': 1976, 'nearly': 1631, 'twenty': 2741, 'thirty': 2632, 'late': 1322, 'resurface': 2122, 'meantime': 1497, 'notoriety': 1690, 'pauline': 1814, 'kael': 1267, 'citizen': 483, 'mankiewicz': 1452, 'orson': 1746, 'welles': 2911, 'screenplay': 2240, 'thread': 2637, 'imdb': 1203, 'web': 2903, 'site': 2351, 'overstate': 1768, 'six': 2353, 'narrator': 1620, 'charles': 452, 'newsreel': 1654, 'represent': 2101, 'ralston': 2012, 'luce': 1412, 'clone': 506, 'thatcher': 2622, 'memoir': 1509, 'bernstein': 264, 'leland': 1347, 'susan': 2551, 'alexander': 81, 'raymond': 2032, 'butler': 389, 'slant': 2361, 'method': 1521, 'overlap': 1763, 'leader': 1335, 'tom': 2669, 'garner': 1088, 'spencer': 2425, 'tracy': 2692, 'rise': 2148, 'bottom': 328, 'head': 1151, 'railroad': 2007, 'morgan': 1581, 'wife': 2926, 'sarah': 2207, 'padden': 1778, 'dimensional': 774, 'narrate': 1618, 'bos': 325, 'skeptical': 2355, 'flaw': 1059, 'typical': 2748, 'union': 2784, 'troublemaker': 2729, 'confrontation': 568, 'preoccupy': 1922, 'detriment': 759, 'scab': 2218, 'blow': 296, 'pure': 1980, 'knock': 1295, 'duplicate': 863, 'thanks': 2621, 'colleen': 522, 'moore': 1579, 'sally': 2201, 'tragedy': 2696, 'worldly': 2960, 'pair': 1784, 'marry': 1465, 'cost': 606, 'involved': 1233, 'empire': 910, 'expand': 990, 'eve': 959, 'vinson': 2852, 'mistress': 1558, 'unfaithful': 2770, 'behavior': 251, 'shock': 2306, 'martyr': 1470, 'marries': 1464, 'son': 2399, 'philip': 1846, 'trent': 2717, 'discovery': 796, 'cuckolding': 658, 'total': 2679, 'unconvincingly': 2759, 'purchase': 1979, 'rival': 2151, 'train': 2699, 'discuss': 798, 'debenture': 706, 'wealthy': 2899, 'rate': 2027, 'social': 2387, 'commentary': 536, 'depression': 740, 'fulci': 1078, 'giallo': 1098, 'normal': 1678, 'standard': 2444, 'redeem': 2055, 'neat': 1632, 'weakness': 2898, 'banal': 219, 'wooden': 2953, 'finale': 1049, 'denouement': 731, 'shall': 2291, 'limp': 1370, 'ironic': 1235, 'norm': 1677, 'yellow': 2986, 'wherever': 2917, 'chamber': 446, 'shaw': 2298, 'equivalent': 944, 'spaghetti': 2414, 'western': 2912, 'gordon': 1116, 'liu': 1384, 'counterpart': 610, 'clint': 503, 'eastwood': 873, 'digitally': 771, 'remastered': 2081, 'fest': 1042, 'scope': 2234, 'simple': 2336, 'versus': 2838, 'narrative': 1619, 'martial': 1468, 'art': 160, 'premise': 1921, 'worker': 2957, 'village': 2849, 'unhappy': 2778, 'wage': 2874, 'manchu': 1448, 'exploitation': 1003, 'none': 1674, 'skilled': 2357, 'minor': 1545, 'impersonate': 1204, 'shaolin': 2294, 'monk': 1572, 'rouse': 2176, 'expose': 1006, 'credibility': 631, 'mob': 1563, 'embark': 903, 'temple': 2603, 'slapstick': 2363, 'abbot': 0, 'teach': 2586, 'kinda': 1290, 'miyagi': 1562, 'karate': 1270, 'erect': 947, 'scaffolding': 2219, 'unwittingly': 2805, 'strength': 2490, 'endurance': 919, 'unorthodox': 2796, 'treatment': 2714, 'refresh': 2061, 'wide': 2925, 'angled': 117, 'clarity': 488, 'spar': 2415, 'partner': 1800, 'showcase': 2315, 'stunt': 2503, 'tad': 2572, 'pause': 1816, 'yuen': 2993, 'ping': 1860, 'flick': 1060, 'monday': 1570, 'nostalgic': 1683, 'lane': 1316, 'familiar': 1024, 'zone': 2998, 'rifle': 2144, 'fire': 1054, 'jimmy': 1249, 'force': 1063, 'arm': 154, 'belt': 261, 'mouth': 1591, 'fred': 1071, 'willis': 2934, 'unit': 2786, 'pin': 1859, 'nest': 1648, 'commission': 538, 'safety': 2196, 'nearby': 1630, 'church': 477, 'steeple': 2458, 'surviving': 2550, 'surrender': 2546, 'artillery': 162, 'shell': 2301, 'wound': 2967, 'recover': 2053, 'fell': 1038, 'volunteer': 2869, 'nurse': 1698, 'duffy': 856, 'lucky': 1414, 'obnoxious': 1702, 'antic': 128, 'french': 1073, 'station': 2453, 'sticky': 2468, 'already': 94, 'proposal': 1959, 'marriage': 1462, 'wwi': 2977, 'marrying': 1466, 'bitter': 281, 'resentful': 2110, 'accident': 16, 'discover': 795, 'meek': 1502, 'european': 958, 'smug': 2379, 'ability': 4, 'abiding': 3, 'execute': 985, 'valentine': 2820, 'massacre': 1475, 'trial': 2718, 'admit': 45, 'sentence': 2266, 'rumor': 2184, 'convict': 593, 'affair': 50, 'circus': 482, 'manger': 1449, 'barker': 229, 'sudden': 2520, 'track': 2691, 'bela': 254, 'lugosi': 1415, 'chiller': 465, 'monogram': 1575, 'corpse': 603, 'vanishes': 2826, 'kidnap': 1284, 'bride': 351, 'body': 306, 'reporter': 2100, 'morning': 1583, 'report': 2099, 'dead': 698, 'shortly': 2311, 'assistant': 171, 'consist': 576, 'dwarf': 866, 'spooky': 2436, 'passage': 1803, 'sleep': 2367, 'coffin': 517, 'bed': 247, 'anthology': 126, 'par': 1791, 'linking': 1373, 'alot': 93, 'ask': 168, 'running': 2186, 'ai': 70, 'vcr': 2832, 'timer': 2659, 'space': 2413, 'maggot': 1427, 'douse': 832, 'campfire': 406, 'percent': 1828, 'nation': 1624, 'nitwit': 1666, 'bush': 382, 'aftermath': 56, 'revolution': 2134, 'strikingly': 2494, 'post': 1904, 'landscape': 1315, 'stop': 2479, 'deserve': 747, 'deny': 734, 'ambiguity': 103, 'doctrinaire': 819, 'robespierre': 2157, 'empty': 913, 'reductive': 2057, 'elucidate': 901, 'boundary': 329, 'totalitarianism': 2680, 'execution': 986, 'patriotism': 1812, 'legalistic': 1343, 'litmus': 1382, 'test': 2617, 'aggravate': 62, 'overprivileged': 1766, 'retard': 2125, 'yale': 2981, 'cheerleader': 458, 'wojciech': 2947, 'pszoniak': 1975, 'slovenly': 2372, 'deparidieu': 735, 'plight': 1874, 'comfort': 530, 'jaw': 1245, 'difficult': 770, 'documentary': 820, 'require': 2104, 'tremendous': 2716, 'patience': 1809, 'directorial': 781, 'plausible': 1868, 'aka': 74, 'mark': 1460, 'viewer': 2846, 'eriksen': 948, 'peak': 1819, 'fair': 1021, 'extra': 1012, 'doc': 817, 'settle': 2279, 'porn': 1892, 'website': 2905, 'tricky': 2721, 'pushy': 1985, 'zoom': 2999, 'grainy': 1122, 'elicit': 897, 'authenticity': 190, 'confuse': 569, 'believability': 255, 'hill': 1167, 'ii': 1200, 'national': 1625, 'trainee': 2700, 'notorious': 1691, 'mutated': 1611, 'training': 2701, 'desert': 745, 'blood': 293, 'rape': 2022, 'pointlessly': 1880, 'gore': 1117, 'awake': 197, 'decent': 708, 'pass': 1802, 'rotten': 2175, 'breakdown': 344, 'estate': 954, 'office': 1718, 'outside': 1759, 'yep': 2987, 'lesbian': 1348, 'ring': 2146, 'lifetime': 1363, 'better': 269, 'clunky': 513, 'disapprove': 788, 'sassy': 2208, 'maid': 1431, 'mcdaniel': 1491, 'custody': 669, 'snotty': 2384, 'teenage': 2596, 'sheesh': 2300, 'unturned': 2803, 'hitchcock': 1171, 'rebecca': 2045, 'daphne': 684, 'dumarier': 858, 'lush': 1419, 'british': 359, 'mistaken': 1557, 'espionage': 952, 'civilian': 486, 'plane': 1866, 'weaponry': 2901, 'necessary': 1633, 'militia': 1535, 'booming': 320, 'paranoid': 1794, 'often': 1721, 'network': 1649, 'deceptive': 710, 'operator': 1736, 'shadow': 2286, 'abide': 2, 'producer': 1945, 'skirball': 2359, 'property': 1958, 'own': 1771, 'sabotage': 2190, 'helpless': 1157, 'thrust': 2645, 'vortex': 2870, 'coincidence': 518, 'sharp': 2297, 'wit': 2941, 'literary': 1380, 'maven': 1486, 'dorothy': 827, 'parker': 1796, 'brief': 352, 'stint': 2474, 'bohemian': 308, 'nyc': 1699, 'perfect': 1829, 'barry': 230, 'cummings': 662, 'los': 1399, 'angeles': 113, 'airplane': 73, 'norman': 1680, 'lloydd': 1386, 'commit': 539, 'authority': 191, 'soda': 2388, 'utah': 2817, 'caravan': 418, 'popular': 1891, 'billboard': 274, 'model': 1565, 'patricia': 1811, 'martin': 1469, 'priscilla': 1937, 'crisis': 637, 'madly': 1425, 'saboteur': 2191, 'outing': 1755, 'brew': 349, 'demure': 729, 'lady': 1311, 'businessmen': 384, 'terrorist': 2616, 'criminal': 636, 'detonate': 758, 'bomb': 311, 'culminate': 659, 'tourist': 2685, 'attraction': 188, 'recreate': 2054, 'clever': 495, 'villain': 2851, 'cameo': 402, 'store': 2480, 'sign': 2327, 'ax': 207, 'bureau': 378, 'afraid': 54, 'deaf': 701, 'dresser': 845, 'evening': 961, 'splash': 2432, 'leaf': 1336, 'speechless': 2422, 'albert': 77, 'finney': 1053, 'courtenay': 617, 'amaze': 101, 'sir': 2348, 'shakespearean': 2289, 'valet': 2821, 'lear': 1337, 'blitz': 290, 'dependent': 736, 'cajole': 397, 'wheedle': 2915, 'bully': 374, 'onstage': 1731, 'vicariously': 2840, 'secondary': 2251, 'interaction': 1223, 'caliber': 398, 'sick': 2323, 'petulant': 1844, 'bullying': 375, 'bow': 330, 'convincing': 594, 'mincing': 1538, 'elderly': 891, 'employer': 912, 'term': 2609, 'technically': 2590, 'married': 1463, 'marvelous': 1471, 'ronald': 2168, 'notably': 1684, 'eileen': 888, 'atkins': 178, 'madge': 1424, 'five': 1057, 'academy': 12, 'award': 201, 'nomination': 1672, 'peter': 1842, 'yates': 2983, 'adapt': 38, 'prepare': 1923, 'mesmerize': 1518, 'somewhere': 2398, 'angie': 115, 'pregnant': 1920, 'dreadful': 842, 'longer': 1395, 'kate': 1274, 'comedic': 528, 'riot': 2147, 'stun': 2501, 'randomly': 2018, 'adequate': 44, 'process': 1943, 'undertone': 2764, 'disappointing': 785, 'phone': 1848, 'ohhh': 1722, 'carpet': 425, 'muncher': 1599, 'tonsil': 2674, 'raunchy': 2030, 'cronenberg': 646, 'favourite': 1035, 'lovely': 1407, 'cutie': 672, 'miscast': 1549, 'array': 158, 'confidence': 565, 'besides': 265, 'oppressive': 1738, 'moral': 1580, 'librarian': 1360, 'unglamorous': 2777, 'unmarried': 2792, 'stella': 2459, 'midler': 1528, 'stephen': 2460, 'collins': 523, 'obligation': 1701, 'trini': 2722, 'alvarado': 98, 'predictably': 1918, 'silent': 2331, 'dallas': 676, 'easily': 872, 'date': 688, 'beach': 240, 'bombed': 312, 'laughable': 1327, 'drags': 837, 'silly': 2332, 'marsha': 1467, 'mason': 1473, 'stanwyck': 2446, 'torture': 2678, 'duckling': 853, 'bloodbath': 294, 'occur': 1708, 'colorful': 524, 'investigation': 1230, 'towns': 2689, 'addict': 40, 'priest': 1935, 'witchcraft': 2942, 'protégé': 1967, 'mentally': 1515, 'townsman': 2690, 'classical': 491, 'mystery': 1613, 'check': 457, 'despair': 751, 'share': 2295, 'sleaze': 2365, 'strange': 2484, 'habit': 1134, 'disconcert': 794, 'material': 1481, 'bother': 327, 'definitely': 721, 'busty': 386, 'beauty': 245, 'stacie': 2438, 'randall': 2016, 'pvc': 1987, 'clad': 487, 'alexandra': 82, 'acolyte': 26, 'faust': 1033, 'trap': 2710, 'determine': 757, 'free': 1072, 'malevolent': 1444, 'minx': 1547, 'warehouse': 2885, 'magical': 1428, 'gem': 1091, 'vital': 2862, 'satanic': 2209, 'summon': 2530, 'mare': 1458, 'accidentally': 17, 'pentagram': 1825, 'diminutive': 776, 'creature': 630, 'lite': 1378, 'replacement': 2096, 'stone': 2477, 'trick': 2720, 'neck': 1634, 'liapis': 1357, 'robbery': 2155, 'capable': 413, 'zany': 2995, 'warped': 2887, 'wynorski': 2979, 'babe': 208, 'captain': 414, 'curator': 663, 'antiquity': 129, 'mental': 1514, 'patient': 1810, 'otherwise': 1752, 'unwatchable': 2804, 'stv': 2506, 'crap': 623, 'presence': 1926, 'crumpet': 654, 'slightly': 2370, 'warrant': 2888, 'label': 1307, 'ordeal': 1741, 'blurb': 301, 'knee': 1293, 'knacker': 1292, 'banter': 223, 'bargain': 227, 'basement': 234, 'rubbery': 2178, 'visual': 2858, 'solely': 2391, 'bimbo': 275, 'quotient': 2003, 'salman': 2202, 'kahn': 1268, 'disappointed': 784, 'price': 1933, 'ali': 83, 'larter': 1320, 'franchise': 1068, 'marque': 1461, 'eight': 887, 'reid': 2068, 'albeit': 76, 'everyone': 967, 'sorry': 2404, 'kym': 1304, 'whitley': 2921, 'candle': 409, 'robin': 2158, 'ketty': 1280, 'lester': 1351, 'curry': 667, 'meagen': 1493, 'mari': 1459, 'morrow': 1584, 'substantial': 2512, 'diversion': 812, 'thumbs': 2647, 'making': 1440, 'labour': 1309, 'shallow': 2292, 'playbook': 1870, 'disaster': 789, 'astronaut': 177, 'out': 1753, 'brave': 340, 'max': 1487, 'judging': 1260, 'latter': 1325, 'muster': 1610, 'emmy': 907, 'student': 2497, 'medium': 1500, 'study': 2499, 'hole': 1173, 'nasa': 1621, 'attach': 181, 'shuttle': 2321, 'simulator': 2340, 'position': 1900, 'experienced': 995, 'bill': 273, 'campbell': 405, 'salvage': 2204, 'wreck': 2969, 'caddyshack': 395, 'cant': 410, 'ted': 2592, 'knight': 1294, 'compete': 547, 'rodney': 2160, 'dangerfield': 682, 'ty': 2746, 'webb': 2904, 'wilcoxon': 2929, 'lawyer': 1331, 'blunt': 299, 'randy': 2019, 'quaid': 1990, 'suit': 2525, 'baseball': 233, 'bat': 236, 'bonfire': 315, 'chippindale': 469, 'roast': 2154, 'retriever': 2127, 'arff': 152, 'comin': 534, 'upstairs': 2809, 'junior': 1262, 'pjs': 1863, 'cram': 622, 'brand': 337, 'bmw': 302, 'tight': 2653, 'understanding': 2763, 'offset': 1720, 'acroyd': 28, 'murray': 1605, 'overall': 1761, 'comparison': 545, 'awesome': 204, 'suck': 2518, 'dummy': 860, 'necro': 1635, 'phony': 1849, 'unearthed': 2766, 'crisp': 638, 'clear': 493, 'creepiness': 633, 'necrophilia': 1636, 'nekromantik': 1644, 'visitor': 2857, 'shocking': 2307, 'manner': 1453, 'philosophy': 1847, 'bull': 372, 'expensive': 993, 'beautifully': 244, 'turd': 2737, 'selection': 2259, 'sickos': 2324, 'doll': 822, 'genesis': 1092, 'cerda': 441, 'absolute': 7, 'mukhsin': 1597, 'tonne': 2673, 'subtle': 2514, 'yasmin': 2982, 'across': 27, 'sepet': 2268, 'gubra': 1128, 'bet': 267, 'relate': 2069, 'bossy': 326, 'neighbour': 1642, 'prostitute': 1961, 'chick': 461, 'snooker': 2383, 'pad': 1777, 'religious': 2075, 'pious': 1861, 'crude': 652, 'awakeningly': 200, 'rumah': 2183, 'tumpangan': 2735, 'signboard': 2328, 'climb': 501, 'malaysian': 1442, 'attitude': 187, 'snigger': 2382, 'pathetic': 1808, 'tongue': 2672, 'shrill': 2319, 'ppl': 1911, 'busybody': 388, 'ur': 2811, 'reach': 2033, 'exceed': 977, 'glue': 1104, 'ha': 1133, 'golf': 1112, 'pm': 1878, 'vardon': 2827, 'awaken': 198, 'stir': 2475, 'professional': 1948, 'childhood': 464, 'francis': 1069, 'decision': 713, 'eddie': 877, 'lowery': 1411, 'caddy': 394, 'encouraging': 917, 'winning': 2938, 'super': 2533, 'tobe': 2665, 'hooper': 1181, 'crocodile': 645, 'niche': 1657, 'wayward': 2897, 'delightful': 726, 'bonbon': 313, 'ed': 876, 'dignity': 773, 'remarkable': 2080, 'monkees': 1573, 'crocky': 644, 'russ': 2188, 'meyer': 1524, 'breast': 345, 'ren': 2087, 'pectoral': 1822, 'opus': 1739, 'surf': 2540, 'dish': 802, 'chum': 476, 'bucket': 366, 'nerd': 1646, 'doom': 825, 'crusade': 655, 'convent': 590, 'bond': 314, 'editor': 882, 'crock': 643, 'sotto': 2406, 'voce': 2865, 'tenor': 2605, 'soliloquy': 2393, 'environmentalism': 940, 'appreciation': 146, 'ahab': 68, 'tour': 2684, 'de': 697, 'speach': 2417, 'shootout': 2309, 'sunset': 2532, 'monkey': 1574, 'toilet': 2668, 'exploitative': 1004, 'waltz': 2880, 'whammy': 2913, 'epic': 941, 'adventure': 49, 'shô': 2322, 'kasugi': 1273, 'christopher': 474, 'lee': 1341, 'davy': 693, 'swashbuckling': 2557, 'modern': 1566, 'errol': 950, 'coburn': 515, 'outlaw': 1756, 'chain': 444, 'mexican': 1523, 'border': 321, 'peace': 1818, 'charlton': 453, 'heston': 1162, 'retired': 2126, 'barbara': 225, 'hershey': 1161, 'shack': 2285, 'waco': 2873, 'standoff': 2445, 'proud': 1968, 'collateral': 520, 'casualty': 433, 'stalwart': 2442, 'reservation': 2111, 'paull': 1815, 'thalmus': 2619, 'rasulala': 2025, 'quade': 1989, 'larry': 1319, 'wilcox': 2928, 'jorge': 1254, 'rivero': 2152, 'chris': 472, 'brutal': 363, 'andrew': 112, 'mclaglen': 1492, 'peckinpaugh': 1821, 'liberal': 1358, 'accentuate': 14, 'interview': 1226, 'buffoon': 369, 'entrails': 938, 'sleazy': 2366, 'bloody': 295, 'japanese': 1244, 'penetrator': 1823, 'whatever': 2914, 'sexploitation': 2283, 'porno': 1893, 'balance': 217, 'smidgen': 2376, 'safe': 2195, 'soulless': 2408, 'photo': 1850, 'team': 2587, 'salacious': 2198, 'dense': 732, 'murderer': 1603, 'kazuo': 1275, 'komizu': 1300, 'quota': 2001, 'random': 2017, 'splice': 2434, 'clip': 504, 'photographer': 1851, 'elsewhere': 900, 'choreograph': 471, 'yeah': 2984, 'mud': 1596, 'unknown': 2787, 'rap': 2021, 'croûtons': 651, 'wretchedly': 2971, 'tasting': 2584, 'salad': 2199, 'spike': 2429, 'thrown': 2644, 'olympic': 1728, 'cool': 595, 'entrailing': 937, 'overly': 1765, 'correct': 604, 'censor': 437, 'blur': 300, 'lumpy': 1418, 'shred': 2317, 'stick': 2466, 'mantra': 1455, 'ease': 871, 'depiction': 738, 'revolutionary': 2135, 'resemble': 2109, 'scout': 2237, 'troop': 2725, 'meander': 1495, 'swim': 2559, 'sharif': 2296, 'palance': 1786, 'oratory': 1740, 'kurtz': 1303, 'swallow': 2556, 'bug': 370, 'display': 807, 'strategic': 2487, 'map': 1457, 'replete': 2097, 'smile': 2377, 'ocean': 1709, 'positively': 1902, 'vaudevillian': 2831, 'pig': 1857, 'comical': 533, 'dentistry': 733, 'surfeit': 2542, 'uppity': 2807, 'peasant': 1820, 'address': 43, 'passel': 1804, 'castro': 432, 'manic': 1451, 'unremitting': 2799, 'medved': 1501, 'busted': 385, 'clock': 505, 'twice': 2742, 'attend': 185, 'review': 2132, 'reader': 2035, 'tomato': 2670, 'user': 2814, 'rank': 2020, 'critic': 640, 'underrate': 2762, 'doug': 830, 'block': 291, 'record': 2052, 'posterity': 1906, 'requisite': 2106, 'outspoken': 1760, 'mina': 1537, 'mike': 1531, 'unexpected': 2768, 'expressive': 1010, 'verbalize': 2835, 'rivet': 2153, 'evoke': 972, 'birch': 276, 'rare': 2023, 'limited': 1369, 'bravo': 341}\n"
     ]
    }
   ],
   "source": [
    "Tfidf_vect = TfidfVectorizer(max_features=3000)\n",
    "Tfidf_vect.fit(Corpus['text_final'])\n",
    "Train_X_Tfidf = Tfidf_vect.transform(Train_X)\n",
    "Test_X_Tfidf = Tfidf_vect.transform(Test_X)\n",
    "\n",
    "print(Tfidf_vect.vocabulary_)\n",
    "#print(len(Tfidf_vect.vocabulary_))"
   ]
  },
  {
   "cell_type": "code",
   "execution_count": 29,
   "id": "5fd5b5f8",
   "metadata": {},
   "outputs": [
    {
     "name": "stdout",
     "output_type": "stream",
     "text": [
      "3000\n"
     ]
    }
   ],
   "source": [
    "print(len(Tfidf_vect.vocabulary_))"
   ]
  },
  {
   "cell_type": "code",
   "execution_count": 30,
   "id": "50931d2a",
   "metadata": {},
   "outputs": [
    {
     "name": "stdout",
     "output_type": "stream",
     "text": [
      "  (0, 2924)\t0.1390753122926916\n",
      "  (0, 2896)\t0.07412735351588047\n",
      "  (0, 2878)\t0.14905733048510242\n",
      "  (0, 2789)\t0.1390753122926916\n",
      "  (0, 2536)\t0.1390753122926916\n",
      "  (0, 2481)\t0.14563567250311146\n",
      "  (0, 2447)\t0.10095556517591824\n",
      "  (0, 2255)\t0.05748708403031139\n",
      "  (0, 2214)\t0.34507328891429856\n",
      "  (0, 2136)\t0.1390753122926916\n",
      "  (0, 1965)\t0.16312619494728364\n",
      "  (0, 1593)\t0.14251519751370173\n",
      "  (0, 1362)\t0.08501067145083095\n",
      "  (0, 1208)\t0.14905733048510242\n",
      "  (0, 1205)\t0.14905733048510242\n",
      "  (0, 1150)\t0.3262523898945673\n",
      "  (0, 1138)\t0.1390753122926916\n",
      "  (0, 1119)\t0.1390753122926916\n",
      "  (0, 1114)\t0.06585494657367123\n",
      "  (0, 1111)\t0.4893785848418509\n",
      "  (0, 1107)\t0.13170989314734247\n",
      "  (0, 1045)\t0.05509316322579257\n",
      "  (0, 1027)\t0.11502442963809952\n",
      "  (0, 1026)\t0.1390753122926916\n",
      "  (0, 833)\t0.14905733048510242\n",
      "  :\t:\n",
      "  (71, 419)\t0.03419354065603623\n",
      "  (71, 411)\t0.04661514917658631\n",
      "  (71, 408)\t0.04661514917658631\n",
      "  (71, 393)\t0.026636639947414092\n",
      "  (71, 383)\t0.03974233832524088\n",
      "  (71, 335)\t0.0825226095197288\n",
      "  (71, 303)\t0.03974233832524088\n",
      "  (71, 298)\t0.04661514917658631\n",
      "  (71, 297)\t0.13984544752975892\n",
      "  (71, 266)\t0.027320729804690795\n",
      "  (71, 252)\t0.035722001702654355\n",
      "  (71, 250)\t0.032869527473895446\n",
      "  (71, 246)\t0.026636639947414092\n",
      "  (71, 222)\t0.04661514917658631\n",
      "  (71, 221)\t0.09323029835317262\n",
      "  (71, 220)\t0.03752978742134605\n",
      "  (71, 142)\t0.06340333016013566\n",
      "  (71, 140)\t0.03752978742134605\n",
      "  (71, 125)\t0.029711940859873835\n",
      "  (71, 122)\t0.04661514917658631\n",
      "  (71, 95)\t0.02599671662255001\n",
      "  (71, 90)\t0.03170166508006783\n",
      "  (71, 75)\t0.04661514917658631\n",
      "  (71, 21)\t0.04259481255399979\n",
      "  (71, 15)\t0.11922701497572263\n"
     ]
    }
   ],
   "source": [
    "print(Train_X_Tfidf)\n"
   ]
  },
  {
   "cell_type": "code",
   "execution_count": 31,
   "id": "7f190028",
   "metadata": {},
   "outputs": [
    {
     "name": "stdout",
     "output_type": "stream",
     "text": [
      "SVM Accuracy Score ->  62.5\n"
     ]
    }
   ],
   "source": [
    "# Classifier - Algorithm - SVM\n",
    "# fit the training dataset on the classifier\n",
    "SVM = svm.SVC(C=1.0, kernel='linear', degree=3, gamma='auto')\n",
    "SVM.fit(Train_X_Tfidf,Train_Y)\n",
    "# predict the labels on validation dataset\n",
    "predictions_SVM = SVM.predict(Test_X_Tfidf)\n",
    "# Use accuracy_score function to get the accuracy\n",
    "print(\"SVM Accuracy Score -> \",accuracy_score(predictions_SVM, Test_Y)*100)"
   ]
  },
  {
   "cell_type": "code",
   "execution_count": 33,
   "id": "46265b08",
   "metadata": {},
   "outputs": [],
   "source": [
    "#print(classification_report(Test_Y,predictions_SVM))"
   ]
  },
  {
   "cell_type": "code",
   "execution_count": 34,
   "id": "5a8975aa",
   "metadata": {},
   "outputs": [
    {
     "name": "stdout",
     "output_type": "stream",
     "text": [
      "Naive Bayes Accuracy Score ->  62.5\n"
     ]
    }
   ],
   "source": [
    "# fit the training dataset on the NB classifier\n",
    "Naive = naive_bayes.MultinomialNB()\n",
    "Naive.fit(Train_X_Tfidf,Train_Y)\n",
    "# predict the labels on validation dataset\n",
    "predictions_NB = Naive.predict(Test_X_Tfidf)\n",
    "# Use accuracy_score function to get the accuracy\n",
    "print(\"Naive Bayes Accuracy Score -> \",accuracy_score(predictions_NB, Test_Y)*100)\n"
   ]
  },
  {
   "cell_type": "code",
   "execution_count": null,
   "id": "966465b8",
   "metadata": {},
   "outputs": [],
   "source": []
  },
  {
   "cell_type": "code",
   "execution_count": 37,
   "id": "08ef0d57",
   "metadata": {},
   "outputs": [
    {
     "data": {
      "text/html": [
       "<div>\n",
       "<style scoped>\n",
       "    .dataframe tbody tr th:only-of-type {\n",
       "        vertical-align: middle;\n",
       "    }\n",
       "\n",
       "    .dataframe tbody tr th {\n",
       "        vertical-align: top;\n",
       "    }\n",
       "\n",
       "    .dataframe thead th {\n",
       "        text-align: right;\n",
       "    }\n",
       "</style>\n",
       "<table border=\"1\" class=\"dataframe\">\n",
       "  <thead>\n",
       "    <tr style=\"text-align: right;\">\n",
       "      <th></th>\n",
       "      <th>reviews</th>\n",
       "      <th>Label</th>\n",
       "      <th>text_original</th>\n",
       "      <th>text</th>\n",
       "      <th>text_final</th>\n",
       "    </tr>\n",
       "  </thead>\n",
       "  <tbody>\n",
       "    <tr>\n",
       "      <th>0</th>\n",
       "      <td>One of the other reviewers has mentioned that ...</td>\n",
       "      <td>positive</td>\n",
       "      <td>One of the other reviewers has mentioned that ...</td>\n",
       "      <td>[one, of, the, other, reviewers, has, mentione...</td>\n",
       "      <td>['one', 'reviewer', 'mention', 'watch', 'oz', ...</td>\n",
       "    </tr>\n",
       "    <tr>\n",
       "      <th>1</th>\n",
       "      <td>A wonderful little production. &lt;br /&gt;&lt;br /&gt;The...</td>\n",
       "      <td>positive</td>\n",
       "      <td>A wonderful little production. &lt;br /&gt;&lt;br /&gt;The...</td>\n",
       "      <td>[a, wonderful, little, production, ., &lt;, br, /...</td>\n",
       "      <td>['wonderful', 'little', 'production', 'br', 'b...</td>\n",
       "    </tr>\n",
       "    <tr>\n",
       "      <th>2</th>\n",
       "      <td>I thought this was a wonderful way to spend ti...</td>\n",
       "      <td>positive</td>\n",
       "      <td>I thought this was a wonderful way to spend ti...</td>\n",
       "      <td>[i, thought, this, was, a, wonderful, way, to,...</td>\n",
       "      <td>['think', 'wonderful', 'way', 'spend', 'time',...</td>\n",
       "    </tr>\n",
       "    <tr>\n",
       "      <th>3</th>\n",
       "      <td>Basically there's a family where a little boy ...</td>\n",
       "      <td>negative</td>\n",
       "      <td>Basically there's a family where a little boy ...</td>\n",
       "      <td>[basically, there, 's, a, family, where, a, li...</td>\n",
       "      <td>['basically', 'family', 'little', 'boy', 'jake...</td>\n",
       "    </tr>\n",
       "    <tr>\n",
       "      <th>4</th>\n",
       "      <td>Petter Mattei's \"Love in the Time of Money\" is...</td>\n",
       "      <td>positive</td>\n",
       "      <td>Petter Mattei's \"Love in the Time of Money\" is...</td>\n",
       "      <td>[petter, mattei, 's, ``, love, in, the, time, ...</td>\n",
       "      <td>['petter', 'mattei', 'love', 'time', 'money', ...</td>\n",
       "    </tr>\n",
       "  </tbody>\n",
       "</table>\n",
       "</div>"
      ],
      "text/plain": [
       "                                             reviews     Label  \\\n",
       "0  One of the other reviewers has mentioned that ...  positive   \n",
       "1  A wonderful little production. <br /><br />The...  positive   \n",
       "2  I thought this was a wonderful way to spend ti...  positive   \n",
       "3  Basically there's a family where a little boy ...  negative   \n",
       "4  Petter Mattei's \"Love in the Time of Money\" is...  positive   \n",
       "\n",
       "                                       text_original  \\\n",
       "0  One of the other reviewers has mentioned that ...   \n",
       "1  A wonderful little production. <br /><br />The...   \n",
       "2  I thought this was a wonderful way to spend ti...   \n",
       "3  Basically there's a family where a little boy ...   \n",
       "4  Petter Mattei's \"Love in the Time of Money\" is...   \n",
       "\n",
       "                                                text  \\\n",
       "0  [one, of, the, other, reviewers, has, mentione...   \n",
       "1  [a, wonderful, little, production, ., <, br, /...   \n",
       "2  [i, thought, this, was, a, wonderful, way, to,...   \n",
       "3  [basically, there, 's, a, family, where, a, li...   \n",
       "4  [petter, mattei, 's, ``, love, in, the, time, ...   \n",
       "\n",
       "                                          text_final  \n",
       "0  ['one', 'reviewer', 'mention', 'watch', 'oz', ...  \n",
       "1  ['wonderful', 'little', 'production', 'br', 'b...  \n",
       "2  ['think', 'wonderful', 'way', 'spend', 'time',...  \n",
       "3  ['basically', 'family', 'little', 'boy', 'jake...  \n",
       "4  ['petter', 'mattei', 'love', 'time', 'money', ...  "
      ]
     },
     "execution_count": 37,
     "metadata": {},
     "output_type": "execute_result"
    }
   ],
   "source": [
    "Corpus.head()"
   ]
  },
  {
   "cell_type": "code",
   "execution_count": null,
   "id": "cc60f7f4",
   "metadata": {},
   "outputs": [],
   "source": []
  },
  {
   "cell_type": "code",
   "execution_count": null,
   "id": "63ad640f",
   "metadata": {},
   "outputs": [],
   "source": []
  },
  {
   "cell_type": "code",
   "execution_count": null,
   "id": "86f348d7",
   "metadata": {},
   "outputs": [],
   "source": [
    "preprocessed_data_MS"
   ]
  },
  {
   "cell_type": "code",
   "execution_count": 38,
   "id": "65a8ec9f",
   "metadata": {},
   "outputs": [
    {
     "data": {
      "text/html": [
       "<div>\n",
       "<style scoped>\n",
       "    .dataframe tbody tr th:only-of-type {\n",
       "        vertical-align: middle;\n",
       "    }\n",
       "\n",
       "    .dataframe tbody tr th {\n",
       "        vertical-align: top;\n",
       "    }\n",
       "\n",
       "    .dataframe thead th {\n",
       "        text-align: right;\n",
       "    }\n",
       "</style>\n",
       "<table border=\"1\" class=\"dataframe\">\n",
       "  <thead>\n",
       "    <tr style=\"text-align: right;\">\n",
       "      <th></th>\n",
       "      <th>reviews</th>\n",
       "      <th>Label</th>\n",
       "      <th>text_original</th>\n",
       "      <th>text</th>\n",
       "      <th>text_final</th>\n",
       "    </tr>\n",
       "  </thead>\n",
       "  <tbody>\n",
       "    <tr>\n",
       "      <th>0</th>\n",
       "      <td>One of the other reviewers has mentioned that ...</td>\n",
       "      <td>positive</td>\n",
       "      <td>One of the other reviewers has mentioned that ...</td>\n",
       "      <td>['one', 'of', 'the', 'other', 'reviewers', 'ha...</td>\n",
       "      <td>['one', 'reviewer', 'mention', 'watch', 'oz', ...</td>\n",
       "    </tr>\n",
       "    <tr>\n",
       "      <th>1</th>\n",
       "      <td>A wonderful little production. &lt;br /&gt;&lt;br /&gt;The...</td>\n",
       "      <td>positive</td>\n",
       "      <td>A wonderful little production. &lt;br /&gt;&lt;br /&gt;The...</td>\n",
       "      <td>['a', 'wonderful', 'little', 'production', '.'...</td>\n",
       "      <td>['wonderful', 'little', 'production', 'br', 'b...</td>\n",
       "    </tr>\n",
       "    <tr>\n",
       "      <th>2</th>\n",
       "      <td>I thought this was a wonderful way to spend ti...</td>\n",
       "      <td>positive</td>\n",
       "      <td>I thought this was a wonderful way to spend ti...</td>\n",
       "      <td>['i', 'thought', 'this', 'was', 'a', 'wonderfu...</td>\n",
       "      <td>['think', 'wonderful', 'way', 'spend', 'time',...</td>\n",
       "    </tr>\n",
       "    <tr>\n",
       "      <th>3</th>\n",
       "      <td>Basically there's a family where a little boy ...</td>\n",
       "      <td>negative</td>\n",
       "      <td>Basically there's a family where a little boy ...</td>\n",
       "      <td>['basically', 'there', \"'s\", 'a', 'family', 'w...</td>\n",
       "      <td>['basically', 'family', 'little', 'boy', 'jake...</td>\n",
       "    </tr>\n",
       "    <tr>\n",
       "      <th>4</th>\n",
       "      <td>Petter Mattei's \"Love in the Time of Money\" is...</td>\n",
       "      <td>positive</td>\n",
       "      <td>Petter Mattei's \"Love in the Time of Money\" is...</td>\n",
       "      <td>['petter', 'mattei', \"'s\", '``', 'love', 'in',...</td>\n",
       "      <td>['petter', 'mattei', 'love', 'time', 'money', ...</td>\n",
       "    </tr>\n",
       "  </tbody>\n",
       "</table>\n",
       "</div>"
      ],
      "text/plain": [
       "                                             reviews     Label  \\\n",
       "0  One of the other reviewers has mentioned that ...  positive   \n",
       "1  A wonderful little production. <br /><br />The...  positive   \n",
       "2  I thought this was a wonderful way to spend ti...  positive   \n",
       "3  Basically there's a family where a little boy ...  negative   \n",
       "4  Petter Mattei's \"Love in the Time of Money\" is...  positive   \n",
       "\n",
       "                                       text_original  \\\n",
       "0  One of the other reviewers has mentioned that ...   \n",
       "1  A wonderful little production. <br /><br />The...   \n",
       "2  I thought this was a wonderful way to spend ti...   \n",
       "3  Basically there's a family where a little boy ...   \n",
       "4  Petter Mattei's \"Love in the Time of Money\" is...   \n",
       "\n",
       "                                                text  \\\n",
       "0  ['one', 'of', 'the', 'other', 'reviewers', 'ha...   \n",
       "1  ['a', 'wonderful', 'little', 'production', '.'...   \n",
       "2  ['i', 'thought', 'this', 'was', 'a', 'wonderfu...   \n",
       "3  ['basically', 'there', \"'s\", 'a', 'family', 'w...   \n",
       "4  ['petter', 'mattei', \"'s\", '``', 'love', 'in',...   \n",
       "\n",
       "                                          text_final  \n",
       "0  ['one', 'reviewer', 'mention', 'watch', 'oz', ...  \n",
       "1  ['wonderful', 'little', 'production', 'br', 'b...  \n",
       "2  ['think', 'wonderful', 'way', 'spend', 'time',...  \n",
       "3  ['basically', 'family', 'little', 'boy', 'jake...  \n",
       "4  ['petter', 'mattei', 'love', 'time', 'money', ...  "
      ]
     },
     "execution_count": 38,
     "metadata": {},
     "output_type": "execute_result"
    }
   ],
   "source": [
    "data = pd.read_csv(\"E:/MS_AI_IUB_DATASETS_2022/NLP/preprocessed_data_MS.csv\")\n",
    "data.head()"
   ]
  },
  {
   "cell_type": "code",
   "execution_count": 39,
   "id": "0171bba0",
   "metadata": {},
   "outputs": [],
   "source": [
    "Corpus.drop(['text_final'], axis=1)\n",
    "output_path = 'preprocessed_Text.csv'\n",
    "Corpus.to_csv(output_path, index=False)"
   ]
  },
  {
   "cell_type": "code",
   "execution_count": 41,
   "id": "ff782d1e",
   "metadata": {},
   "outputs": [
    {
     "data": {
      "text/html": [
       "<div>\n",
       "<style scoped>\n",
       "    .dataframe tbody tr th:only-of-type {\n",
       "        vertical-align: middle;\n",
       "    }\n",
       "\n",
       "    .dataframe tbody tr th {\n",
       "        vertical-align: top;\n",
       "    }\n",
       "\n",
       "    .dataframe thead th {\n",
       "        text-align: right;\n",
       "    }\n",
       "</style>\n",
       "<table border=\"1\" class=\"dataframe\">\n",
       "  <thead>\n",
       "    <tr style=\"text-align: right;\">\n",
       "      <th></th>\n",
       "      <th>reviews</th>\n",
       "      <th>Label</th>\n",
       "      <th>text_original</th>\n",
       "      <th>text</th>\n",
       "      <th>text_final</th>\n",
       "    </tr>\n",
       "  </thead>\n",
       "  <tbody>\n",
       "    <tr>\n",
       "      <th>0</th>\n",
       "      <td>One of the other reviewers has mentioned that ...</td>\n",
       "      <td>positive</td>\n",
       "      <td>One of the other reviewers has mentioned that ...</td>\n",
       "      <td>['one', 'of', 'the', 'other', 'reviewers', 'ha...</td>\n",
       "      <td>['one', 'reviewer', 'mention', 'watch', 'oz', ...</td>\n",
       "    </tr>\n",
       "    <tr>\n",
       "      <th>1</th>\n",
       "      <td>A wonderful little production. &lt;br /&gt;&lt;br /&gt;The...</td>\n",
       "      <td>positive</td>\n",
       "      <td>A wonderful little production. &lt;br /&gt;&lt;br /&gt;The...</td>\n",
       "      <td>['a', 'wonderful', 'little', 'production', '.'...</td>\n",
       "      <td>['wonderful', 'little', 'production', 'br', 'b...</td>\n",
       "    </tr>\n",
       "    <tr>\n",
       "      <th>2</th>\n",
       "      <td>I thought this was a wonderful way to spend ti...</td>\n",
       "      <td>positive</td>\n",
       "      <td>I thought this was a wonderful way to spend ti...</td>\n",
       "      <td>['i', 'thought', 'this', 'was', 'a', 'wonderfu...</td>\n",
       "      <td>['think', 'wonderful', 'way', 'spend', 'time',...</td>\n",
       "    </tr>\n",
       "    <tr>\n",
       "      <th>3</th>\n",
       "      <td>Basically there's a family where a little boy ...</td>\n",
       "      <td>negative</td>\n",
       "      <td>Basically there's a family where a little boy ...</td>\n",
       "      <td>['basically', 'there', \"'s\", 'a', 'family', 'w...</td>\n",
       "      <td>['basically', 'family', 'little', 'boy', 'jake...</td>\n",
       "    </tr>\n",
       "    <tr>\n",
       "      <th>4</th>\n",
       "      <td>Petter Mattei's \"Love in the Time of Money\" is...</td>\n",
       "      <td>positive</td>\n",
       "      <td>Petter Mattei's \"Love in the Time of Money\" is...</td>\n",
       "      <td>['petter', 'mattei', \"'s\", '``', 'love', 'in',...</td>\n",
       "      <td>['petter', 'mattei', 'love', 'time', 'money', ...</td>\n",
       "    </tr>\n",
       "  </tbody>\n",
       "</table>\n",
       "</div>"
      ],
      "text/plain": [
       "                                             reviews     Label  \\\n",
       "0  One of the other reviewers has mentioned that ...  positive   \n",
       "1  A wonderful little production. <br /><br />The...  positive   \n",
       "2  I thought this was a wonderful way to spend ti...  positive   \n",
       "3  Basically there's a family where a little boy ...  negative   \n",
       "4  Petter Mattei's \"Love in the Time of Money\" is...  positive   \n",
       "\n",
       "                                       text_original  \\\n",
       "0  One of the other reviewers has mentioned that ...   \n",
       "1  A wonderful little production. <br /><br />The...   \n",
       "2  I thought this was a wonderful way to spend ti...   \n",
       "3  Basically there's a family where a little boy ...   \n",
       "4  Petter Mattei's \"Love in the Time of Money\" is...   \n",
       "\n",
       "                                                text  \\\n",
       "0  ['one', 'of', 'the', 'other', 'reviewers', 'ha...   \n",
       "1  ['a', 'wonderful', 'little', 'production', '.'...   \n",
       "2  ['i', 'thought', 'this', 'was', 'a', 'wonderfu...   \n",
       "3  ['basically', 'there', \"'s\", 'a', 'family', 'w...   \n",
       "4  ['petter', 'mattei', \"'s\", '``', 'love', 'in',...   \n",
       "\n",
       "                                          text_final  \n",
       "0  ['one', 'reviewer', 'mention', 'watch', 'oz', ...  \n",
       "1  ['wonderful', 'little', 'production', 'br', 'b...  \n",
       "2  ['think', 'wonderful', 'way', 'spend', 'time',...  \n",
       "3  ['basically', 'family', 'little', 'boy', 'jake...  \n",
       "4  ['petter', 'mattei', 'love', 'time', 'money', ...  "
      ]
     },
     "execution_count": 41,
     "metadata": {},
     "output_type": "execute_result"
    }
   ],
   "source": [
    "pre = pd.read_csv(\"E:/MS_AI_IUB_DATASETS_2022/NLP/preprocessed_Text.csv\")\n",
    "pre.head()"
   ]
  },
  {
   "cell_type": "code",
   "execution_count": 47,
   "id": "63e462c6",
   "metadata": {},
   "outputs": [
    {
     "data": {
      "text/html": [
       "<div>\n",
       "<style scoped>\n",
       "    .dataframe tbody tr th:only-of-type {\n",
       "        vertical-align: middle;\n",
       "    }\n",
       "\n",
       "    .dataframe tbody tr th {\n",
       "        vertical-align: top;\n",
       "    }\n",
       "\n",
       "    .dataframe thead th {\n",
       "        text-align: right;\n",
       "    }\n",
       "</style>\n",
       "<table border=\"1\" class=\"dataframe\">\n",
       "  <thead>\n",
       "    <tr style=\"text-align: right;\">\n",
       "      <th></th>\n",
       "      <th>Label</th>\n",
       "      <th>text_final</th>\n",
       "    </tr>\n",
       "  </thead>\n",
       "  <tbody>\n",
       "    <tr>\n",
       "      <th>0</th>\n",
       "      <td>positive</td>\n",
       "      <td>['one', 'reviewer', 'mention', 'watch', 'oz', ...</td>\n",
       "    </tr>\n",
       "    <tr>\n",
       "      <th>1</th>\n",
       "      <td>positive</td>\n",
       "      <td>['wonderful', 'little', 'production', 'br', 'b...</td>\n",
       "    </tr>\n",
       "    <tr>\n",
       "      <th>2</th>\n",
       "      <td>positive</td>\n",
       "      <td>['think', 'wonderful', 'way', 'spend', 'time',...</td>\n",
       "    </tr>\n",
       "    <tr>\n",
       "      <th>3</th>\n",
       "      <td>negative</td>\n",
       "      <td>['basically', 'family', 'little', 'boy', 'jake...</td>\n",
       "    </tr>\n",
       "    <tr>\n",
       "      <th>4</th>\n",
       "      <td>positive</td>\n",
       "      <td>['petter', 'mattei', 'love', 'time', 'money', ...</td>\n",
       "    </tr>\n",
       "  </tbody>\n",
       "</table>\n",
       "</div>"
      ],
      "text/plain": [
       "      Label                                         text_final\n",
       "0  positive  ['one', 'reviewer', 'mention', 'watch', 'oz', ...\n",
       "1  positive  ['wonderful', 'little', 'production', 'br', 'b...\n",
       "2  positive  ['think', 'wonderful', 'way', 'spend', 'time',...\n",
       "3  negative  ['basically', 'family', 'little', 'boy', 'jake...\n",
       "4  positive  ['petter', 'mattei', 'love', 'time', 'money', ..."
      ]
     },
     "execution_count": 47,
     "metadata": {},
     "output_type": "execute_result"
    }
   ],
   "source": [
    "da = pre.drop([\"reviews\", \"text_original\", \"text\"], axis = 1)\n",
    "\n",
    "da.head()"
   ]
  },
  {
   "cell_type": "code",
   "execution_count": 48,
   "id": "48883c61",
   "metadata": {},
   "outputs": [],
   "source": [
    "output_path = 'Preprocess.csv'\n",
    "da.to_csv(output_path, index=False)"
   ]
  },
  {
   "cell_type": "code",
   "execution_count": null,
   "id": "97ba1e5a",
   "metadata": {},
   "outputs": [],
   "source": []
  },
  {
   "cell_type": "code",
   "execution_count": 49,
   "id": "4628d0c1",
   "metadata": {},
   "outputs": [
    {
     "data": {
      "text/html": [
       "<div>\n",
       "<style scoped>\n",
       "    .dataframe tbody tr th:only-of-type {\n",
       "        vertical-align: middle;\n",
       "    }\n",
       "\n",
       "    .dataframe tbody tr th {\n",
       "        vertical-align: top;\n",
       "    }\n",
       "\n",
       "    .dataframe thead th {\n",
       "        text-align: right;\n",
       "    }\n",
       "</style>\n",
       "<table border=\"1\" class=\"dataframe\">\n",
       "  <thead>\n",
       "    <tr style=\"text-align: right;\">\n",
       "      <th></th>\n",
       "      <th>Label</th>\n",
       "      <th>text_final</th>\n",
       "    </tr>\n",
       "  </thead>\n",
       "  <tbody>\n",
       "    <tr>\n",
       "      <th>0</th>\n",
       "      <td>positive</td>\n",
       "      <td>['one', 'reviewer', 'mention', 'watch', 'oz', ...</td>\n",
       "    </tr>\n",
       "    <tr>\n",
       "      <th>1</th>\n",
       "      <td>positive</td>\n",
       "      <td>['wonderful', 'little', 'production', 'br', 'b...</td>\n",
       "    </tr>\n",
       "    <tr>\n",
       "      <th>2</th>\n",
       "      <td>positive</td>\n",
       "      <td>['think', 'wonderful', 'way', 'spend', 'time',...</td>\n",
       "    </tr>\n",
       "    <tr>\n",
       "      <th>3</th>\n",
       "      <td>negative</td>\n",
       "      <td>['basically', 'family', 'little', 'boy', 'jake...</td>\n",
       "    </tr>\n",
       "    <tr>\n",
       "      <th>4</th>\n",
       "      <td>positive</td>\n",
       "      <td>['petter', 'mattei', 'love', 'time', 'money', ...</td>\n",
       "    </tr>\n",
       "  </tbody>\n",
       "</table>\n",
       "</div>"
      ],
      "text/plain": [
       "      Label                                         text_final\n",
       "0  positive  ['one', 'reviewer', 'mention', 'watch', 'oz', ...\n",
       "1  positive  ['wonderful', 'little', 'production', 'br', 'b...\n",
       "2  positive  ['think', 'wonderful', 'way', 'spend', 'time',...\n",
       "3  negative  ['basically', 'family', 'little', 'boy', 'jake...\n",
       "4  positive  ['petter', 'mattei', 'love', 'time', 'money', ..."
      ]
     },
     "execution_count": 49,
     "metadata": {},
     "output_type": "execute_result"
    }
   ],
   "source": [
    "df = pd.read_csv(\"E:/MS_AI_IUB_DATASETS_2022/NLP/preprocess.csv\")\n",
    "df.head()"
   ]
  },
  {
   "cell_type": "code",
   "execution_count": null,
   "id": "cc8eb30b",
   "metadata": {},
   "outputs": [],
   "source": []
  }
 ],
 "metadata": {
  "kernelspec": {
   "display_name": "Python 3 (ipykernel)",
   "language": "python",
   "name": "python3"
  },
  "language_info": {
   "codemirror_mode": {
    "name": "ipython",
    "version": 3
   },
   "file_extension": ".py",
   "mimetype": "text/x-python",
   "name": "python",
   "nbconvert_exporter": "python",
   "pygments_lexer": "ipython3",
   "version": "3.9.7"
  }
 },
 "nbformat": 4,
 "nbformat_minor": 5
}
